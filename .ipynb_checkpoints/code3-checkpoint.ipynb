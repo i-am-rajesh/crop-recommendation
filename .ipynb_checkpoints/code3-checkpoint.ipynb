{
 "cells": [
  {
   "cell_type": "code",
   "execution_count": 1,
   "id": "693f9be8",
   "metadata": {
    "execution": {
     "iopub.execute_input": "2022-01-11T13:02:08.760840Z",
     "iopub.status.busy": "2022-01-11T13:02:08.759785Z",
     "iopub.status.idle": "2022-01-11T13:02:09.708861Z",
     "shell.execute_reply": "2022-01-11T13:02:09.709342Z",
     "shell.execute_reply.started": "2022-01-11T12:57:38.386580Z"
    },
    "id": "nqpQ-LB-EjZv",
    "papermill": {
     "duration": 0.976847,
     "end_time": "2022-01-11T13:02:09.709762",
     "exception": false,
     "start_time": "2022-01-11T13:02:08.732915",
     "status": "completed"
    },
    "tags": []
   },
   "outputs": [],
   "source": [
    "\n",
    "import numpy as np\n",
    "import pandas as pd\n",
    "\n",
    "\n",
    "import matplotlib.pyplot as plt\n",
    "import seaborn as sns\n",
    "plt.style.use('fivethirtyeight')\n",
    "\n",
    "\n",
    "import ipywidgets\n",
    "from ipywidgets import interact\n",
    "\n"
   ]
  },
  {
   "cell_type": "code",
   "execution_count": 2,
   "id": "3e853768",
   "metadata": {
    "execution": {
     "iopub.execute_input": "2022-01-11T13:02:09.810252Z",
     "iopub.status.busy": "2022-01-11T13:02:09.809634Z",
     "iopub.status.idle": "2022-01-11T13:02:09.829944Z",
     "shell.execute_reply": "2022-01-11T13:02:09.830565Z",
     "shell.execute_reply.started": "2022-01-11T12:57:38.878494Z"
    },
    "id": "sAt00FmHEjZw",
    "outputId": "0c78e16e-871b-414f-afcc-2bf30f9b50c9",
    "papermill": {
     "duration": 0.047508,
     "end_time": "2022-01-11T13:02:09.830757",
     "exception": false,
     "start_time": "2022-01-11T13:02:09.783249",
     "status": "completed"
    },
    "tags": []
   },
   "outputs": [
    {
     "name": "stdout",
     "output_type": "stream",
     "text": [
      "Shape of the Dataset : (2200, 8)\n"
     ]
    }
   ],
   "source": [
    "\n",
    "data = pd.read_csv(\"dataset.csv\")\n",
    "\n",
    "\n",
    "print(\"Shape of the Dataset :\", data.shape)"
   ]
  },
  {
   "cell_type": "code",
   "execution_count": 3,
   "id": "a904abb9",
   "metadata": {
    "execution": {
     "iopub.execute_input": "2022-01-11T13:02:09.883328Z",
     "iopub.status.busy": "2022-01-11T13:02:09.882723Z",
     "iopub.status.idle": "2022-01-11T13:02:09.903139Z",
     "shell.execute_reply": "2022-01-11T13:02:09.903678Z",
     "shell.execute_reply.started": "2022-01-11T12:57:38.894940Z"
    },
    "id": "wJhDhX05EjZx",
    "outputId": "1907592d-3477-4a61-f3bc-93b48720cb64",
    "papermill": {
     "duration": 0.048056,
     "end_time": "2022-01-11T13:02:09.903852",
     "exception": false,
     "start_time": "2022-01-11T13:02:09.855796",
     "status": "completed"
    },
    "tags": []
   },
   "outputs": [
    {
     "data": {
      "text/html": [
       "<div>\n",
       "<style scoped>\n",
       "    .dataframe tbody tr th:only-of-type {\n",
       "        vertical-align: middle;\n",
       "    }\n",
       "\n",
       "    .dataframe tbody tr th {\n",
       "        vertical-align: top;\n",
       "    }\n",
       "\n",
       "    .dataframe thead th {\n",
       "        text-align: right;\n",
       "    }\n",
       "</style>\n",
       "<table border=\"1\" class=\"dataframe\">\n",
       "  <thead>\n",
       "    <tr style=\"text-align: right;\">\n",
       "      <th></th>\n",
       "      <th>N</th>\n",
       "      <th>P</th>\n",
       "      <th>K</th>\n",
       "      <th>temperature</th>\n",
       "      <th>humidity</th>\n",
       "      <th>ph</th>\n",
       "      <th>rainfall</th>\n",
       "      <th>label</th>\n",
       "    </tr>\n",
       "  </thead>\n",
       "  <tbody>\n",
       "    <tr>\n",
       "      <th>0</th>\n",
       "      <td>90</td>\n",
       "      <td>42</td>\n",
       "      <td>43</td>\n",
       "      <td>20.879744</td>\n",
       "      <td>82.002744</td>\n",
       "      <td>6.502985</td>\n",
       "      <td>202.935536</td>\n",
       "      <td>rice</td>\n",
       "    </tr>\n",
       "    <tr>\n",
       "      <th>1</th>\n",
       "      <td>85</td>\n",
       "      <td>58</td>\n",
       "      <td>41</td>\n",
       "      <td>21.770462</td>\n",
       "      <td>80.319644</td>\n",
       "      <td>7.038096</td>\n",
       "      <td>226.655537</td>\n",
       "      <td>rice</td>\n",
       "    </tr>\n",
       "    <tr>\n",
       "      <th>2</th>\n",
       "      <td>60</td>\n",
       "      <td>55</td>\n",
       "      <td>44</td>\n",
       "      <td>23.004459</td>\n",
       "      <td>82.320763</td>\n",
       "      <td>7.840207</td>\n",
       "      <td>263.964248</td>\n",
       "      <td>rice</td>\n",
       "    </tr>\n",
       "    <tr>\n",
       "      <th>3</th>\n",
       "      <td>74</td>\n",
       "      <td>35</td>\n",
       "      <td>40</td>\n",
       "      <td>26.491096</td>\n",
       "      <td>80.158363</td>\n",
       "      <td>6.980401</td>\n",
       "      <td>242.864034</td>\n",
       "      <td>rice</td>\n",
       "    </tr>\n",
       "    <tr>\n",
       "      <th>4</th>\n",
       "      <td>78</td>\n",
       "      <td>42</td>\n",
       "      <td>42</td>\n",
       "      <td>20.130175</td>\n",
       "      <td>81.604873</td>\n",
       "      <td>7.628473</td>\n",
       "      <td>262.717340</td>\n",
       "      <td>rice</td>\n",
       "    </tr>\n",
       "  </tbody>\n",
       "</table>\n",
       "</div>"
      ],
      "text/plain": [
       "    N   P   K  temperature   humidity        ph    rainfall label\n",
       "0  90  42  43    20.879744  82.002744  6.502985  202.935536  rice\n",
       "1  85  58  41    21.770462  80.319644  7.038096  226.655537  rice\n",
       "2  60  55  44    23.004459  82.320763  7.840207  263.964248  rice\n",
       "3  74  35  40    26.491096  80.158363  6.980401  242.864034  rice\n",
       "4  78  42  42    20.130175  81.604873  7.628473  262.717340  rice"
      ]
     },
     "execution_count": 3,
     "metadata": {},
     "output_type": "execute_result"
    }
   ],
   "source": [
    "\n",
    "data.head()"
   ]
  },
  {
   "cell_type": "code",
   "execution_count": 4,
   "id": "c1cc431e",
   "metadata": {
    "execution": {
     "iopub.execute_input": "2022-01-11T13:02:10.013103Z",
     "iopub.status.busy": "2022-01-11T13:02:10.007414Z",
     "iopub.status.idle": "2022-01-11T13:02:10.016545Z",
     "shell.execute_reply": "2022-01-11T13:02:10.015944Z",
     "shell.execute_reply.started": "2022-01-11T12:57:38.917033Z"
    },
    "id": "p3BU8uXsEjZx",
    "outputId": "c3f35947-0dbf-49af-d2cc-17bb7d2bfb35",
    "papermill": {
     "duration": 0.036393,
     "end_time": "2022-01-11T13:02:10.016694",
     "exception": false,
     "start_time": "2022-01-11T13:02:09.980301",
     "status": "completed"
    },
    "tags": []
   },
   "outputs": [
    {
     "data": {
      "text/plain": [
       "N              0\n",
       "P              0\n",
       "K              0\n",
       "temperature    0\n",
       "humidity       0\n",
       "ph             0\n",
       "rainfall       0\n",
       "label          0\n",
       "dtype: int64"
      ]
     },
     "execution_count": 4,
     "metadata": {},
     "output_type": "execute_result"
    }
   ],
   "source": [
    "\n",
    "data.isnull().sum()"
   ]
  },
  {
   "cell_type": "code",
   "execution_count": 5,
   "id": "db66891e",
   "metadata": {
    "execution": {
     "iopub.execute_input": "2022-01-11T13:02:10.077612Z",
     "iopub.status.busy": "2022-01-11T13:02:10.076899Z",
     "iopub.status.idle": "2022-01-11T13:02:10.086003Z",
     "shell.execute_reply": "2022-01-11T13:02:10.086605Z",
     "shell.execute_reply.started": "2022-01-11T12:57:38.930119Z"
    },
    "id": "YLYUFE0tEjZy",
    "outputId": "140574fa-e566-44f8-8c45-a184c514759c",
    "papermill": {
     "duration": 0.043797,
     "end_time": "2022-01-11T13:02:10.086784",
     "exception": false,
     "start_time": "2022-01-11T13:02:10.042987",
     "status": "completed"
    },
    "tags": []
   },
   "outputs": [
    {
     "data": {
      "text/plain": [
       "pigeonpeas     100\n",
       "blackgram      100\n",
       "grapes         100\n",
       "maize          100\n",
       "mungbean       100\n",
       "muskmelon      100\n",
       "coconut        100\n",
       "papaya         100\n",
       "chickpea       100\n",
       "kidneybeans    100\n",
       "watermelon     100\n",
       "jute           100\n",
       "orange         100\n",
       "cotton         100\n",
       "apple          100\n",
       "rice           100\n",
       "lentil         100\n",
       "mango          100\n",
       "banana         100\n",
       "pomegranate    100\n",
       "mothbeans      100\n",
       "coffee         100\n",
       "Name: label, dtype: int64"
      ]
     },
     "execution_count": 5,
     "metadata": {},
     "output_type": "execute_result"
    }
   ],
   "source": [
    "\n",
    "data['label'].value_counts()"
   ]
  },
  {
   "cell_type": "code",
   "execution_count": 6,
   "id": "9e99b89f",
   "metadata": {
    "execution": {
     "iopub.execute_input": "2022-01-11T13:02:10.200704Z",
     "iopub.status.busy": "2022-01-11T13:02:10.199766Z",
     "iopub.status.idle": "2022-01-11T13:02:10.209240Z",
     "shell.execute_reply": "2022-01-11T13:02:10.209711Z",
     "shell.execute_reply.started": "2022-01-11T12:57:38.950165Z"
    },
    "id": "W3CItapmEjZz",
    "outputId": "6a2e9eb3-f908-48b6-bd87-f2008f289f9b",
    "papermill": {
     "duration": 0.039541,
     "end_time": "2022-01-11T13:02:10.209882",
     "exception": false,
     "start_time": "2022-01-11T13:02:10.170341",
     "status": "completed"
    },
    "tags": []
   },
   "outputs": [
    {
     "name": "stdout",
     "output_type": "stream",
     "text": [
      "Average Ratio of Nitrogen in the Soil : 50.55\n",
      "Average Ratio of Phosphorous in the Soil : 53.36\n",
      "Average Ratio of Potassium in the Soil : 48.15\n",
      "Average Tempature in Celsius : 25.62\n",
      "Average Relative Humidity in % : 71.48\n",
      "Average PH Value of the soil : 6.47\n",
      "Average Rainfall in mm : 103.46\n"
     ]
    }
   ],
   "source": [
    "\n",
    "print(\"Average Ratio of Nitrogen in the Soil : {0:.2f}\".format(data['N'].mean()))\n",
    "print(\"Average Ratio of Phosphorous in the Soil : {0:.2f}\".format(data['P'].mean()))\n",
    "print(\"Average Ratio of Potassium in the Soil : {0:.2f}\".format(data['K'].mean()))\n",
    "print(\"Average Tempature in Celsius : {0:.2f}\".format(data['temperature'].mean()))\n",
    "print(\"Average Relative Humidity in % : {0:.2f}\".format(data['humidity'].mean()))\n",
    "print(\"Average PH Value of the soil : {0:.2f}\".format(data['ph'].mean()))\n",
    "print(\"Average Rainfall in mm : {0:.2f}\".format(data['rainfall'].mean()))"
   ]
  },
  {
   "cell_type": "code",
   "execution_count": 7,
   "id": "b0da866a",
   "metadata": {
    "execution": {
     "iopub.execute_input": "2022-01-11T13:02:10.267008Z",
     "iopub.status.busy": "2022-01-11T13:02:10.265986Z",
     "iopub.status.idle": "2022-01-11T13:02:10.317848Z",
     "shell.execute_reply": "2022-01-11T13:02:10.316787Z",
     "shell.execute_reply.started": "2022-01-11T12:57:38.967463Z"
    },
    "id": "mfuyInTPEjZz",
    "outputId": "5b3fd288-63d4-43a9-caa9-b8c557b41d30",
    "papermill": {
     "duration": 0.081962,
     "end_time": "2022-01-11T13:02:10.318065",
     "exception": false,
     "start_time": "2022-01-11T13:02:10.236103",
     "status": "completed"
    },
    "tags": []
   },
   "outputs": [
    {
     "data": {
      "application/vnd.jupyter.widget-view+json": {
       "model_id": "17975c38f2b34b6d92b40827979aa9a1",
       "version_major": 2,
       "version_minor": 0
      },
      "text/plain": [
       "interactive(children=(Dropdown(description='crops', options=('pigeonpeas', 'blackgram', 'grapes', 'maize', 'mu…"
      ]
     },
     "metadata": {},
     "output_type": "display_data"
    }
   ],
   "source": [
    "\n",
    "\n",
    "@interact\n",
    "def summary(crops = list(data['label'].value_counts().index)):\n",
    "    x = data[data['label'] == crops]\n",
    "    print(\"---------------------------------------------\")\n",
    "    print(\"Statistics for Nitrogen\")\n",
    "    print(\"Minimum Nitrigen required :\", x['N'].min())\n",
    "    print(\"Average Nitrogen required :\", x['N'].mean())\n",
    "    print(\"Maximum Nitrogen required :\", x['N'].max()) \n",
    "    print(\"---------------------------------------------\")\n",
    "    print(\"Statistics for Phosphorous\")\n",
    "    print(\"Minimum Phosphorous required :\", x['P'].min())\n",
    "    print(\"Average Phosphorous required :\", x['P'].mean())\n",
    "    print(\"Maximum Phosphorous required :\", x['P'].max()) \n",
    "    print(\"---------------------------------------------\")\n",
    "    print(\"Statistics for Potassium\")\n",
    "    print(\"Minimum Potassium required :\", x['K'].min())\n",
    "    print(\"Average Potassium required :\", x['K'].mean())\n",
    "    print(\"Maximum Potassium required :\", x['K'].max()) \n",
    "    print(\"---------------------------------------------\")\n",
    "    print(\"Statistics for Temperature\")\n",
    "    print(\"Minimum Temperature required : {0:.2f}\".format(x['temperature'].min()))\n",
    "    print(\"Average Temperature required : {0:.2f}\".format(x['temperature'].mean()))\n",
    "    print(\"Maximum Temperature required : {0:.2f}\".format(x['temperature'].max()))\n",
    "    print(\"---------------------------------------------\")\n",
    "    print(\"Statistics for Humidity\")\n",
    "    print(\"Minimum Humidity required : {0:.2f}\".format(x['humidity'].min()))\n",
    "    print(\"Average Humidity required : {0:.2f}\".format(x['humidity'].mean()))\n",
    "    print(\"Maximum Humidity required : {0:.2f}\".format(x['humidity'].max()))\n",
    "    print(\"---------------------------------------------\")\n",
    "    print(\"Statistics for PH\")\n",
    "    print(\"Minimum PH required : {0:.2f}\".format(x['ph'].min()))\n",
    "    print(\"Average PH required : {0:.2f}\".format(x['ph'].mean()))\n",
    "    print(\"Maximum PH required : {0:.2f}\".format(x['ph'].max()))\n",
    "    print(\"---------------------------------------------\")\n",
    "    print(\"Statistics for Rainfall\")\n",
    "    print(\"Minimum Rainfall required : {0:.2f}\".format(x['rainfall'].min()))\n",
    "    print(\"Average Rainfall required : {0:.2f}\".format(x['rainfall'].mean()))\n",
    "    print(\"Maximum Rainfall required : {0:.2f}\".format(x['rainfall'].max()))"
   ]
  },
  {
   "cell_type": "code",
   "execution_count": 8,
   "id": "b829e5ce",
   "metadata": {
    "execution": {
     "iopub.execute_input": "2022-01-11T13:02:10.401181Z",
     "iopub.status.busy": "2022-01-11T13:02:10.400129Z",
     "iopub.status.idle": "2022-01-11T13:02:10.436541Z",
     "shell.execute_reply": "2022-01-11T13:02:10.435949Z",
     "shell.execute_reply.started": "2022-01-11T12:57:39.031946Z"
    },
    "id": "YT7UIpvEEjZ0",
    "outputId": "34320c7d-26d4-4fc3-d9ab-0ed17890bc04",
    "papermill": {
     "duration": 0.091919,
     "end_time": "2022-01-11T13:02:10.436692",
     "exception": false,
     "start_time": "2022-01-11T13:02:10.344773",
     "status": "completed"
    },
    "tags": []
   },
   "outputs": [
    {
     "data": {
      "application/vnd.jupyter.widget-view+json": {
       "model_id": "64da6ea0e7404cf2bdb26d5022a285bd",
       "version_major": 2,
       "version_minor": 0
      },
      "text/plain": [
       "interactive(children=(Dropdown(description='conditions', options=('N', 'P', 'K', 'temperature', 'ph', 'humidit…"
      ]
     },
     "metadata": {},
     "output_type": "display_data"
    }
   ],
   "source": [
    "\n",
    "\n",
    "@interact\n",
    "def compare(conditions = ['N','P','K','temperature','ph','humidity','rainfall']):\n",
    "    print(\"Average Value for\", conditions,\"is {0:.2f}\".format(data[conditions].mean()))\n",
    "    print(\"----------------------------------------------\")\n",
    "    print(\"Rice : {0:.2f}\".format(data[(data['label'] == 'rice')][conditions].mean()))\n",
    "    print(\"Black Grams : {0:.2f}\".format(data[data['label'] == 'blackgram'][conditions].mean()))\n",
    "    print(\"Banana : {0:.2f}\".format(data[(data['label'] == 'banana')][conditions].mean()))\n",
    "    print(\"Jute : {0:.2f}\".format(data[data['label'] == 'jute'][conditions].mean()))\n",
    "    print(\"Coconut : {0:.2f}\".format(data[(data['label'] == 'coconut')][conditions].mean()))\n",
    "    print(\"Apple : {0:.2f}\".format(data[data['label'] == 'apple'][conditions].mean()))\n",
    "    print(\"Papaya : {0:.2f}\".format(data[(data['label'] == 'papaya')][conditions].mean()))\n",
    "    print(\"Muskmelon : {0:.2f}\".format(data[data['label'] == 'muskmelon'][conditions].mean()))\n",
    "    print(\"Grapes : {0:.2f}\".format(data[(data['label'] == 'grapes')][conditions].mean()))\n",
    "    print(\"Watermelon : {0:.2f}\".format(data[data['label'] == 'watermelon'][conditions].mean()))\n",
    "    print(\"Kidney Beans: {0:.2f}\".format(data[(data['label'] == 'kidneybeans')][conditions].mean()))\n",
    "    print(\"Mung Beans : {0:.2f}\".format(data[data['label'] == 'mungbean'][conditions].mean()))\n",
    "    print(\"Oranges : {0:.2f}\".format(data[(data['label'] == 'orange')][conditions].mean()))\n",
    "    print(\"Chick Peas : {0:.2f}\".format(data[data['label'] == 'chickpea'][conditions].mean()))\n",
    "    print(\"Lentils : {0:.2f}\".format(data[(data['label'] == 'lentil')][conditions].mean()))\n",
    "    print(\"Cotton : {0:.2f}\".format(data[data['label'] == 'cotton'][conditions].mean()))\n",
    "    print(\"Maize : {0:.2f}\".format(data[(data['label'] == 'maize')][conditions].mean()))\n",
    "    print(\"Moth Beans : {0:.2f}\".format(data[data['label'] == 'mothbeans'][conditions].mean()))\n",
    "    print(\"Pigeon Peas : {0:.2f}\".format(data[(data['label'] == 'pigeonpeas')][conditions].mean()))\n",
    "    print(\"Mango : {0:.2f}\".format(data[data['label'] == 'mango'][conditions].mean()))\n",
    "    print(\"Pomegranate : {0:.2f}\".format(data[(data['label'] == 'pomegranate')][conditions].mean()))\n",
    "    print(\"Coffee : {0:.2f}\".format(data[data['label'] == 'coffee'][conditions].mean()))"
   ]
  },
  {
   "cell_type": "code",
   "execution_count": 9,
   "id": "ab680d88",
   "metadata": {
    "execution": {
     "iopub.execute_input": "2022-01-11T13:02:10.513834Z",
     "iopub.status.busy": "2022-01-11T13:02:10.513169Z",
     "iopub.status.idle": "2022-01-11T13:02:10.528625Z",
     "shell.execute_reply": "2022-01-11T13:02:10.528039Z",
     "shell.execute_reply.started": "2022-01-11T12:57:39.114853Z"
    },
    "id": "7O_OEJIfEjZ0",
    "outputId": "095c262b-aa92-46aa-b4b9-5f67c65de932",
    "papermill": {
     "duration": 0.064106,
     "end_time": "2022-01-11T13:02:10.528764",
     "exception": false,
     "start_time": "2022-01-11T13:02:10.464658",
     "status": "completed"
    },
    "tags": []
   },
   "outputs": [
    {
     "data": {
      "application/vnd.jupyter.widget-view+json": {
       "model_id": "7a8c41a208f84dc2b42830c4f7926a5b",
       "version_major": 2,
       "version_minor": 0
      },
      "text/plain": [
       "interactive(children=(Dropdown(description='conditions', options=('N', 'P', 'K', 'temperature', 'ph', 'humidit…"
      ]
     },
     "metadata": {},
     "output_type": "display_data"
    }
   ],
   "source": [
    "\n",
    "\n",
    "@interact\n",
    "def compare(conditions = ['N','P','K','temperature','ph','humidity','rainfall']):\n",
    "    print(\"Crops which require greater than average\", conditions,'\\n')\n",
    "    print(data[data[conditions] > data[conditions].mean()]['label'].unique())\n",
    "    print(\"----------------------------------------------\")\n",
    "    print(\"Crops which require less than average\", conditions,'\\n')\n",
    "    print(data[data[conditions] <= data[conditions].mean()]['label'].unique())"
   ]
  },
  {
   "cell_type": "code",
   "execution_count": 10,
   "id": "7b6f04f8",
   "metadata": {
    "execution": {
     "iopub.execute_input": "2022-01-11T13:02:10.648888Z",
     "iopub.status.busy": "2022-01-11T13:02:10.648245Z",
     "iopub.status.idle": "2022-01-11T13:02:11.906496Z",
     "shell.execute_reply": "2022-01-11T13:02:11.906935Z",
     "shell.execute_reply.started": "2022-01-11T12:57:39.156327Z"
    },
    "id": "AOYjKu62EjZ1",
    "outputId": "c33be28b-8243-43e6-9fce-27138e41fd4a",
    "papermill": {
     "duration": 1.294993,
     "end_time": "2022-01-11T13:02:11.907094",
     "exception": false,
     "start_time": "2022-01-11T13:02:10.612101",
     "status": "completed"
    },
    "tags": []
   },
   "outputs": [
    {
     "name": "stderr",
     "output_type": "stream",
     "text": [
      "C:\\Users\\subha\\AppData\\Local\\Programs\\Python\\Python36\\lib\\site-packages\\seaborn\\distributions.py:2619: FutureWarning: `distplot` is a deprecated function and will be removed in a future version. Please adapt your code to use either `displot` (a figure-level function with similar flexibility) or `histplot` (an axes-level function for histograms).\n",
      "  warnings.warn(msg, FutureWarning)\n",
      "C:\\Users\\subha\\AppData\\Local\\Programs\\Python\\Python36\\lib\\site-packages\\seaborn\\distributions.py:2619: FutureWarning: `distplot` is a deprecated function and will be removed in a future version. Please adapt your code to use either `displot` (a figure-level function with similar flexibility) or `histplot` (an axes-level function for histograms).\n",
      "  warnings.warn(msg, FutureWarning)\n",
      "C:\\Users\\subha\\AppData\\Local\\Programs\\Python\\Python36\\lib\\site-packages\\seaborn\\distributions.py:2619: FutureWarning: `distplot` is a deprecated function and will be removed in a future version. Please adapt your code to use either `displot` (a figure-level function with similar flexibility) or `histplot` (an axes-level function for histograms).\n",
      "  warnings.warn(msg, FutureWarning)\n",
      "C:\\Users\\subha\\AppData\\Local\\Programs\\Python\\Python36\\lib\\site-packages\\seaborn\\distributions.py:2619: FutureWarning: `distplot` is a deprecated function and will be removed in a future version. Please adapt your code to use either `displot` (a figure-level function with similar flexibility) or `histplot` (an axes-level function for histograms).\n",
      "  warnings.warn(msg, FutureWarning)\n",
      "C:\\Users\\subha\\AppData\\Local\\Programs\\Python\\Python36\\lib\\site-packages\\seaborn\\distributions.py:2619: FutureWarning: `distplot` is a deprecated function and will be removed in a future version. Please adapt your code to use either `displot` (a figure-level function with similar flexibility) or `histplot` (an axes-level function for histograms).\n",
      "  warnings.warn(msg, FutureWarning)\n",
      "C:\\Users\\subha\\AppData\\Local\\Programs\\Python\\Python36\\lib\\site-packages\\seaborn\\distributions.py:2619: FutureWarning: `distplot` is a deprecated function and will be removed in a future version. Please adapt your code to use either `displot` (a figure-level function with similar flexibility) or `histplot` (an axes-level function for histograms).\n",
      "  warnings.warn(msg, FutureWarning)\n",
      "C:\\Users\\subha\\AppData\\Local\\Programs\\Python\\Python36\\lib\\site-packages\\seaborn\\distributions.py:2619: FutureWarning: `distplot` is a deprecated function and will be removed in a future version. Please adapt your code to use either `displot` (a figure-level function with similar flexibility) or `histplot` (an axes-level function for histograms).\n",
      "  warnings.warn(msg, FutureWarning)\n"
     ]
    },
    {
     "data": {
      "image/png": "[encoded data removed]",
      "text/plain": [
       "<Figure size 1080x504 with 7 Axes>"
      ]
     },
     "metadata": {},
     "output_type": "display_data"
    }
   ],
   "source": [
    "\n",
    "\n",
    "plt.rcParams['figure.figsize'] = (15, 7)\n",
    "\n",
    "plt.subplot(2, 4, 1)\n",
    "sns.distplot(data['N'], color = 'lightgrey')\n",
    "plt.xlabel('Ratio of Nitrogen', fontsize = 12)\n",
    "plt.grid()\n",
    "\n",
    "plt.subplot(2, 4, 2)\n",
    "sns.distplot(data['P'], color = 'skyblue')\n",
    "plt.xlabel('Ratio of Phosphorous', fontsize = 12)\n",
    "plt.grid()\n",
    "\n",
    "plt.subplot(2, 4, 3)\n",
    "sns.distplot(data['K'], color ='darkblue')\n",
    "plt.xlabel('Ratio of Potassium', fontsize = 12)\n",
    "plt.grid()\n",
    "\n",
    "plt.subplot(2, 4, 4)\n",
    "sns.distplot(data['temperature'], color = 'black')\n",
    "plt.xlabel('Temperature', fontsize = 12)\n",
    "plt.grid()\n",
    "\n",
    "plt.subplot(2, 4, 5)\n",
    "sns.distplot(data['rainfall'], color = 'grey')\n",
    "plt.xlabel('Rainfall', fontsize = 12)\n",
    "plt.grid()\n",
    "\n",
    "plt.subplot(2, 4, 6)\n",
    "sns.distplot(data['humidity'], color = 'lightgreen')\n",
    "plt.xlabel('Humidity', fontsize = 12)\n",
    "plt.grid()\n",
    "\n",
    "plt.subplot(2, 4, 7)\n",
    "sns.distplot(data['ph'], color = 'darkgreen')\n",
    "plt.xlabel('pH Level', fontsize = 12)\n",
    "plt.grid()\n",
    "\n",
    "plt.suptitle('Distribution for Agricultural Conditions', fontsize = 20)\n",
    "plt.show()\n"
   ]
  },
  {
   "cell_type": "code",
   "execution_count": 11,
   "id": "89e60ce8",
   "metadata": {
    "execution": {
     "iopub.execute_input": "2022-01-11T13:02:11.975090Z",
     "iopub.status.busy": "2022-01-11T13:02:11.974344Z",
     "iopub.status.idle": "2022-01-11T13:02:11.987735Z",
     "shell.execute_reply": "2022-01-11T13:02:11.986876Z",
     "shell.execute_reply.started": "2022-01-11T12:57:40.533157Z"
    },
    "id": "cqq92f3IEjZ1",
    "outputId": "b7fcae6c-ea0a-4a09-8e82-a050773b99d7",
    "papermill": {
     "duration": 0.050511,
     "end_time": "2022-01-11T13:02:11.987930",
     "exception": false,
     "start_time": "2022-01-11T13:02:11.937419",
     "status": "completed"
    },
    "tags": []
   },
   "outputs": [
    {
     "name": "stdout",
     "output_type": "stream",
     "text": [
      "Some Interesting Patterns\n",
      "---------------------------------\n",
      "Crops which requires very High Ratio of Nitrogen Content in Soil: ['cotton']\n",
      "Crops which requires very High Ratio of Phosphorous Content in Soil: ['grapes' 'apple']\n",
      "Crops which requires very High Ratio of Potassium Content in Soil: ['grapes' 'apple']\n",
      "Crops which requires very High Rainfall: ['rice' 'papaya' 'coconut']\n",
      "Crops which requires very Low Temperature : ['grapes']\n",
      "Crops which requires very High Temperature : ['grapes' 'papaya']\n",
      "Crops which requires very Low Humidity: ['chickpea' 'kidneybeans']\n",
      "Crops which requires very Low pH: ['mothbeans']\n",
      "Crops which requires very High pH: ['mothbeans']\n"
     ]
    }
   ],
   "source": [
    "\n",
    "\n",
    "print(\"Some Interesting Patterns\")\n",
    "print(\"---------------------------------\")\n",
    "print(\"Crops which requires very High Ratio of Nitrogen Content in Soil:\", data[data['N'] > 120]['label'].unique())\n",
    "print(\"Crops which requires very High Ratio of Phosphorous Content in Soil:\", data[data['P'] > 100]['label'].unique())\n",
    "print(\"Crops which requires very High Ratio of Potassium Content in Soil:\", data[data['K'] > 200]['label'].unique())\n",
    "print(\"Crops which requires very High Rainfall:\", data[data['rainfall'] > 200]['label'].unique())\n",
    "print(\"Crops which requires very Low Temperature :\", data[data['temperature'] < 10]['label'].unique())\n",
    "print(\"Crops which requires very High Temperature :\", data[data['temperature'] > 40]['label'].unique())\n",
    "print(\"Crops which requires very Low Humidity:\", data[data['humidity'] < 20]['label'].unique())\n",
    "print(\"Crops which requires very Low pH:\", data[data['ph'] < 4]['label'].unique())\n",
    "print(\"Crops which requires very High pH:\", data[data['ph'] > 9]['label'].unique())"
   ]
  },
  {
   "cell_type": "code",
   "execution_count": 12,
   "id": "fc431e82",
   "metadata": {
    "execution": {
     "iopub.execute_input": "2022-01-11T13:02:12.057864Z",
     "iopub.status.busy": "2022-01-11T13:02:12.057138Z",
     "iopub.status.idle": "2022-01-11T13:02:12.066162Z",
     "shell.execute_reply": "2022-01-11T13:02:12.066862Z",
     "shell.execute_reply.started": "2022-01-11T12:57:40.561374Z"
    },
    "id": "k0corbAdEjZ1",
    "outputId": "e5415592-4e2b-44cb-9d5c-4c7ce913dfe9",
    "papermill": {
     "duration": 0.047657,
     "end_time": "2022-01-11T13:02:12.067092",
     "exception": false,
     "start_time": "2022-01-11T13:02:12.019435",
     "status": "completed"
    },
    "tags": []
   },
   "outputs": [
    {
     "name": "stdout",
     "output_type": "stream",
     "text": [
      "Summer Crops\n",
      "['pigeonpeas' 'mothbeans' 'blackgram' 'mango' 'grapes' 'orange' 'papaya']\n",
      "-----------------------------------\n",
      "Winter Crops\n",
      "['maize' 'pigeonpeas' 'lentil' 'pomegranate' 'grapes' 'orange']\n",
      "-----------------------------------\n",
      "Rainy Crops\n",
      "['rice' 'papaya' 'coconut']\n"
     ]
    }
   ],
   "source": [
    "\n",
    "\n",
    "print(\"Summer Crops\")\n",
    "print(data[(data['temperature'] > 30) & (data['humidity'] > 50)]['label'].unique())\n",
    "print(\"-----------------------------------\")\n",
    "print(\"Winter Crops\")\n",
    "print(data[(data['temperature'] < 20) & (data['humidity'] > 30)]['label'].unique())\n",
    "print(\"-----------------------------------\")\n",
    "print(\"Rainy Crops\")\n",
    "print(data[(data['rainfall'] > 200) & (data['humidity'] > 30)]['label'].unique())"
   ]
  },
  {
   "cell_type": "code",
   "execution_count": 13,
   "id": "2c037744",
   "metadata": {
    "execution": {
     "iopub.execute_input": "2022-01-11T13:02:12.194973Z",
     "iopub.status.busy": "2022-01-11T13:02:12.194006Z",
     "iopub.status.idle": "2022-01-11T13:02:12.211271Z",
     "shell.execute_reply": "2022-01-11T13:02:12.212019Z",
     "shell.execute_reply.started": "2022-01-11T12:57:40.581441Z"
    },
    "id": "XQWU3C8KEjZ2",
    "outputId": "4cc49456-7d1b-490a-917e-59f39bdf51f2",
    "papermill": {
     "duration": 0.052087,
     "end_time": "2022-01-11T13:02:12.212259",
     "exception": false,
     "start_time": "2022-01-11T13:02:12.160172",
     "status": "completed"
    },
    "tags": []
   },
   "outputs": [
    {
     "name": "stdout",
     "output_type": "stream",
     "text": [
      "(2200, 7)\n"
     ]
    },
    {
     "data": {
      "text/html": [
       "<div>\n",
       "<style scoped>\n",
       "    .dataframe tbody tr th:only-of-type {\n",
       "        vertical-align: middle;\n",
       "    }\n",
       "\n",
       "    .dataframe tbody tr th {\n",
       "        vertical-align: top;\n",
       "    }\n",
       "\n",
       "    .dataframe thead th {\n",
       "        text-align: right;\n",
       "    }\n",
       "</style>\n",
       "<table border=\"1\" class=\"dataframe\">\n",
       "  <thead>\n",
       "    <tr style=\"text-align: right;\">\n",
       "      <th></th>\n",
       "      <th>0</th>\n",
       "      <th>1</th>\n",
       "      <th>2</th>\n",
       "      <th>3</th>\n",
       "      <th>4</th>\n",
       "      <th>5</th>\n",
       "      <th>6</th>\n",
       "    </tr>\n",
       "  </thead>\n",
       "  <tbody>\n",
       "    <tr>\n",
       "      <th>0</th>\n",
       "      <td>90.0</td>\n",
       "      <td>42.0</td>\n",
       "      <td>43.0</td>\n",
       "      <td>20.879744</td>\n",
       "      <td>6.502985</td>\n",
       "      <td>82.002744</td>\n",
       "      <td>202.935536</td>\n",
       "    </tr>\n",
       "    <tr>\n",
       "      <th>1</th>\n",
       "      <td>85.0</td>\n",
       "      <td>58.0</td>\n",
       "      <td>41.0</td>\n",
       "      <td>21.770462</td>\n",
       "      <td>7.038096</td>\n",
       "      <td>80.319644</td>\n",
       "      <td>226.655537</td>\n",
       "    </tr>\n",
       "    <tr>\n",
       "      <th>2</th>\n",
       "      <td>60.0</td>\n",
       "      <td>55.0</td>\n",
       "      <td>44.0</td>\n",
       "      <td>23.004459</td>\n",
       "      <td>7.840207</td>\n",
       "      <td>82.320763</td>\n",
       "      <td>263.964248</td>\n",
       "    </tr>\n",
       "    <tr>\n",
       "      <th>3</th>\n",
       "      <td>74.0</td>\n",
       "      <td>35.0</td>\n",
       "      <td>40.0</td>\n",
       "      <td>26.491096</td>\n",
       "      <td>6.980401</td>\n",
       "      <td>80.158363</td>\n",
       "      <td>242.864034</td>\n",
       "    </tr>\n",
       "    <tr>\n",
       "      <th>4</th>\n",
       "      <td>78.0</td>\n",
       "      <td>42.0</td>\n",
       "      <td>42.0</td>\n",
       "      <td>20.130175</td>\n",
       "      <td>7.628473</td>\n",
       "      <td>81.604873</td>\n",
       "      <td>262.717340</td>\n",
       "    </tr>\n",
       "  </tbody>\n",
       "</table>\n",
       "</div>"
      ],
      "text/plain": [
       "      0     1     2          3         4          5           6\n",
       "0  90.0  42.0  43.0  20.879744  6.502985  82.002744  202.935536\n",
       "1  85.0  58.0  41.0  21.770462  7.038096  80.319644  226.655537\n",
       "2  60.0  55.0  44.0  23.004459  7.840207  82.320763  263.964248\n",
       "3  74.0  35.0  40.0  26.491096  6.980401  80.158363  242.864034\n",
       "4  78.0  42.0  42.0  20.130175  7.628473  81.604873  262.717340"
      ]
     },
     "execution_count": 13,
     "metadata": {},
     "output_type": "execute_result"
    }
   ],
   "source": [
    "\n",
    "import warnings\n",
    "warnings.filterwarnings('ignore')\n",
    "\n",
    "\n",
    "x = data.loc[:, ['N','P','K','temperature','ph','humidity','rainfall']].values\n",
    "\n",
    "\n",
    "print(x.shape)\n",
    "\n",
    "\n",
    "x_data  = pd.DataFrame(x)\n",
    "x_data.head()"
   ]
  },
  {
   "cell_type": "code",
   "execution_count": 14,
   "id": "34e840ee",
   "metadata": {
    "execution": {
     "iopub.execute_input": "2022-01-11T13:02:12.278898Z",
     "iopub.status.busy": "2022-01-11T13:02:12.277988Z",
     "iopub.status.idle": "2022-01-11T13:02:26.060386Z",
     "shell.execute_reply": "2022-01-11T13:02:26.059817Z",
     "shell.execute_reply.started": "2022-01-11T12:57:40.604448Z"
    },
    "id": "dxtSMqf6EjZ2",
    "outputId": "692e622c-1563-4e7e-ade6-62d1605826a2",
    "papermill": {
     "duration": 13.816958,
     "end_time": "2022-01-11T13:02:26.060545",
     "exception": false,
     "start_time": "2022-01-11T13:02:12.243587",
     "status": "completed"
    },
    "tags": []
   },
   "outputs": [
    {
     "data": {
      "image/png": "[encoded data removed]",
      "text/plain": [
       "<Figure size 720x288 with 1 Axes>"
      ]
     },
     "metadata": {},
     "output_type": "display_data"
    }
   ],
   "source": [
    "\n",
    "\n",
    "from sklearn.cluster import KMeans\n",
    "plt.rcParams['figure.figsize'] = (10, 4)\n",
    "\n",
    "wcss = []\n",
    "for i in range(1, 11):\n",
    "    km = KMeans(n_clusters = i, init = 'k-means++', max_iter = 300, n_init = 10, random_state = 0)\n",
    "    km.fit(x)\n",
    "    wcss.append(km.inertia_)\n",
    "\n",
    "\n",
    "plt.plot(range(1, 11), wcss)\n",
    "plt.title('The Elbow Method', fontsize = 20)\n",
    "plt.xlabel('No. of Clusters')\n",
    "plt.ylabel('wcss')\n",
    "plt.show()"
   ]
  },
  {
   "cell_type": "code",
   "execution_count": 15,
   "id": "8d3e913a",
   "metadata": {
    "execution": {
     "iopub.execute_input": "2022-01-11T13:02:26.155122Z",
     "iopub.status.busy": "2022-01-11T13:02:26.154407Z",
     "iopub.status.idle": "2022-01-11T13:02:27.471079Z",
     "shell.execute_reply": "2022-01-11T13:02:27.472334Z",
     "shell.execute_reply.started": "2022-01-11T12:57:53.841722Z"
    },
    "id": "v0GeCqIYEjZ2",
    "outputId": "869f3aa8-598c-4caf-8e53-ce66c8600451",
    "papermill": {
     "duration": 1.370716,
     "end_time": "2022-01-11T13:02:27.472574",
     "exception": false,
     "start_time": "2022-01-11T13:02:26.101858",
     "status": "completed"
    },
    "tags": []
   },
   "outputs": [
    {
     "name": "stdout",
     "output_type": "stream",
     "text": [
      "Lets check the Results After Applying the K Means Clustering Analysis \n",
      "\n",
      "Crops in First Cluster: ['maize' 'chickpea' 'kidneybeans' 'pigeonpeas' 'mothbeans' 'mungbean'\n",
      " 'blackgram' 'lentil' 'pomegranate' 'mango' 'orange' 'papaya' 'coconut']\n",
      "---------------------------------------------------------------\n",
      "Crops in Second Cluster: ['maize' 'banana' 'watermelon' 'muskmelon' 'papaya' 'cotton' 'coffee']\n",
      "---------------------------------------------------------------\n",
      "Crops in Third Cluster: ['grapes' 'apple']\n",
      "---------------------------------------------------------------\n",
      "Crops in Fourth Cluster: ['rice' 'pigeonpeas' 'papaya' 'coconut' 'jute' 'coffee']\n"
     ]
    }
   ],
   "source": [
    "\n",
    "km = KMeans(n_clusters = 4, init = 'k-means++', max_iter = 300, n_init = 10, random_state = 0)\n",
    "y_means = km.fit_predict(x)\n",
    "\n",
    "\n",
    "a = data['label']\n",
    "y_means = pd.DataFrame(y_means)\n",
    "z = pd.concat([y_means, a], axis = 1)\n",
    "z = z.rename(columns = {0: 'cluster'})\n",
    "\n",
    "\n",
    "print(\"Lets check the Results After Applying the K Means Clustering Analysis \\n\")\n",
    "print(\"Crops in First Cluster:\", z[z['cluster'] == 0]['label'].unique())\n",
    "print(\"---------------------------------------------------------------\")\n",
    "print(\"Crops in Second Cluster:\", z[z['cluster'] == 1]['label'].unique())\n",
    "print(\"---------------------------------------------------------------\")\n",
    "print(\"Crops in Third Cluster:\", z[z['cluster'] == 2]['label'].unique())\n",
    "print(\"---------------------------------------------------------------\")\n",
    "print(\"Crops in Fourth Cluster:\", z[z['cluster'] == 3]['label'].unique())"
   ]
  },
  {
   "cell_type": "code",
   "execution_count": 16,
   "id": "7f1f1476",
   "metadata": {
    "execution": {
     "iopub.execute_input": "2022-01-11T13:03:08.120978Z",
     "iopub.status.busy": "2022-01-11T13:03:08.120322Z",
     "iopub.status.idle": "2022-01-11T13:03:08.259358Z",
     "shell.execute_reply": "2022-01-11T13:03:08.258807Z",
     "shell.execute_reply.started": "2022-01-11T12:59:43.331786Z"
    },
    "papermill": {
     "duration": 0.174909,
     "end_time": "2022-01-11T13:03:08.259520",
     "exception": false,
     "start_time": "2022-01-11T13:03:08.084611",
     "status": "completed"
    },
    "tags": []
   },
   "outputs": [
    {
     "name": "stdout",
     "output_type": "stream",
     "text": [
      "Hierachical Clustering Analysis \n",
      "\n",
      "Crops in Zero Cluster: ['chickpea' 'kidneybeans' 'pigeonpeas' 'mothbeans' 'mungbean' 'blackgram'\n",
      " 'lentil' 'pomegranate' 'mango' 'orange' 'coconut']\n",
      "---------------------------------------------------------------\n",
      "Crops in First Cluster: ['maize' 'blackgram' 'banana' 'watermelon' 'muskmelon' 'papaya' 'cotton']\n",
      "---------------------------------------------------------------\n",
      "Crops in Second Cluster: ['rice' 'papaya' 'coconut' 'jute' 'coffee']\n",
      "---------------------------------------------------------------\n",
      "Crops in Third Cluster: ['grapes' 'apple']\n"
     ]
    }
   ],
   "source": [
    " \n",
    "from sklearn.cluster import AgglomerativeClustering  \n",
    "hc= AgglomerativeClustering(n_clusters=4, affinity='euclidean', linkage='ward')  \n",
    "y_her= hc.fit_predict(x)  \n",
    "\n",
    "\n",
    "b = data['label']\n",
    "y_herr = pd.DataFrame(y_her)\n",
    "w = pd.concat([y_herr, b], axis = 1)\n",
    "w= w.rename(columns = {0: 'cluster'})\n",
    "\n",
    "\n",
    "print(\"Hierachical Clustering Analysis \\n\")\n",
    "print(\"Crops in Zero Cluster:\", w[w['cluster'] == 0]['label'].unique())\n",
    "print(\"---------------------------------------------------------------\")\n",
    "print(\"Crops in First Cluster:\", w[w['cluster'] == 1]['label'].unique())\n",
    "print(\"---------------------------------------------------------------\")\n",
    "print(\"Crops in Second Cluster:\", w[w['cluster'] == 2]['label'].unique())\n",
    "print(\"---------------------------------------------------------------\")\n",
    "print(\"Crops in Third Cluster:\", w[w['cluster'] == 3]['label'].unique())\n"
   ]
  },
  {
   "cell_type": "code",
   "execution_count": 17,
   "id": "65eb1b82",
   "metadata": {
    "execution": {
     "iopub.execute_input": "2022-01-11T13:03:08.329226Z",
     "iopub.status.busy": "2022-01-11T13:03:08.328617Z",
     "iopub.status.idle": "2022-01-11T13:03:08.652108Z",
     "shell.execute_reply": "2022-01-11T13:03:08.652556Z",
     "shell.execute_reply.started": "2022-01-11T12:59:48.596966Z"
    },
    "papermill": {
     "duration": 0.35992,
     "end_time": "2022-01-11T13:03:08.652729",
     "exception": false,
     "start_time": "2022-01-11T13:03:08.292809",
     "status": "completed"
    },
    "tags": []
   },
   "outputs": [
    {
     "data": {
      "image/png": "[encoded data removed]",
      "text/plain": [
       "<Figure size 720x288 with 1 Axes>"
      ]
     },
     "metadata": {},
     "output_type": "display_data"
    }
   ],
   "source": [
    " \n",
    "plt.scatter(x[y_her == 0, 0], x[y_her == 0, 1], s = 100, c = 'blue', label = 'Cluster 1')  \n",
    "plt.scatter(x[y_her == 1, 0], x[y_her == 1, 1], s = 100, c = 'green', label = 'Cluster 2')  \n",
    "plt.scatter(x[y_her== 2, 0], x[y_her == 2, 1], s = 100, c = 'red', label = 'Cluster 3')  \n",
    "plt.scatter(x[y_her == 3, 0], x[y_her == 3, 1], s = 100, c = 'cyan', label = 'Cluster 4')  \n",
    "plt.title('Clusters of crops')  \n",
    "plt.legend()  \n",
    "plt.show()"
   ]
  },
  {
   "cell_type": "code",
   "execution_count": 18,
   "id": "d0668626",
   "metadata": {
    "execution": {
     "iopub.execute_input": "2022-01-11T13:03:08.728573Z",
     "iopub.status.busy": "2022-01-11T13:03:08.727906Z",
     "iopub.status.idle": "2022-01-11T13:03:08.750018Z",
     "shell.execute_reply": "2022-01-11T13:03:08.749362Z",
     "shell.execute_reply.started": "2022-01-11T12:59:53.144704Z"
    },
    "id": "b3XNPqFJEjZ2",
    "outputId": "84343ff2-ed09-4dc9-d636-2e78215ace01",
    "papermill": {
     "duration": 0.061435,
     "end_time": "2022-01-11T13:03:08.750160",
     "exception": false,
     "start_time": "2022-01-11T13:03:08.688725",
     "status": "completed"
    },
    "tags": []
   },
   "outputs": [
    {
     "name": "stdout",
     "output_type": "stream",
     "text": [
      "Results for Hard Clustering\n",
      "\n",
      "Crops in Cluster 1: ['blackgram', 'mothbeans', 'pomegranate', 'mango', 'lentil', 'mungbean', 'orange', 'kidneybeans', 'chickpea']\n",
      "--------------------------------------------------\n",
      "Crops in Cluster 2: ['cotton', 'watermelon', 'banana', 'maize', 'muskmelon']\n",
      "--------------------------------------------------\n",
      "Crops in Cluster 3: ['apple', 'grapes']\n",
      "--------------------------------------------------\n",
      "Crops in Cluster 4: ['pigeonpeas', 'jute', 'rice', 'coffee', 'papaya', 'coconut']\n"
     ]
    }
   ],
   "source": [
    "\n",
    "\n",
    "print(\"Results for Hard Clustering\\n\")\n",
    "counts = z[z['cluster'] == 0]['label'].value_counts()\n",
    "d = z.loc[z['label'].isin(counts.index[counts >= 50])]\n",
    "d = d['label'].value_counts()\n",
    "print(\"Crops in Cluster 1:\", list(d.index))\n",
    "print(\"--------------------------------------------------\")\n",
    "counts = z[z['cluster'] == 1]['label'].value_counts()\n",
    "d = z.loc[z['label'].isin(counts.index[counts >= 50])]\n",
    "d = d['label'].value_counts()\n",
    "print(\"Crops in Cluster 2:\", list(d.index))\n",
    "print(\"--------------------------------------------------\")\n",
    "counts = z[z['cluster'] == 2]['label'].value_counts()\n",
    "d = z.loc[z['label'].isin(counts.index[counts >= 50])]\n",
    "d = d['label'].value_counts()\n",
    "print(\"Crops in Cluster 3:\", list(d.index))\n",
    "print(\"--------------------------------------------------\")\n",
    "counts = z[z['cluster'] == 3]['label'].value_counts()\n",
    "d = z.loc[z['label'].isin(counts.index[counts >= 50])]\n",
    "d = d['label'].value_counts()\n",
    "print(\"Crops in Cluster 4:\", list(d.index))"
   ]
  },
  {
   "cell_type": "code",
   "execution_count": 19,
   "id": "e9a6688a",
   "metadata": {
    "execution": {
     "iopub.execute_input": "2022-01-11T13:03:08.906924Z",
     "iopub.status.busy": "2022-01-11T13:03:08.906253Z",
     "iopub.status.idle": "2022-01-11T13:03:13.612999Z",
     "shell.execute_reply": "2022-01-11T13:03:13.613458Z",
     "shell.execute_reply.started": "2022-01-11T12:59:58.178816Z"
    },
    "id": "aegh6hGAEjZ3",
    "outputId": "1274bf05-dfce-4226-e668-dd8aa8dd54eb",
    "papermill": {
     "duration": 4.754396,
     "end_time": "2022-01-11T13:03:13.613639",
     "exception": false,
     "start_time": "2022-01-11T13:03:08.859243",
     "status": "completed"
    },
    "tags": []
   },
   "outputs": [
    {
     "data": {
      "image/png": "[encoded data removed]",
      "text/plain": [
       "<Figure size 1080x576 with 7 Axes>"
      ]
     },
     "metadata": {},
     "output_type": "display_data"
    }
   ],
   "source": [
    "\n",
    "\n",
    "plt.rcParams['figure.figsize'] = (15, 8)\n",
    "\n",
    "plt.subplot(2, 4, 1)\n",
    "sns.barplot(data['N'], data['label'])\n",
    "plt.ylabel(' ')\n",
    "plt.xlabel('Ratio of Nitrogen', fontsize = 10)\n",
    "plt.yticks(fontsize = 10)\n",
    "\n",
    "plt.subplot(2, 4, 2)\n",
    "sns.barplot(data['P'], data['label'])\n",
    "plt.ylabel(' ')\n",
    "plt.xlabel('Ratio of Phosphorous', fontsize = 10)\n",
    "plt.yticks(fontsize = 10)\n",
    "\n",
    "plt.subplot(2, 4, 3)\n",
    "sns.barplot(data['K'], data['label'])\n",
    "plt.ylabel(' ')\n",
    "plt.xlabel('Ratio of Potassium', fontsize = 10)\n",
    "plt.yticks(fontsize = 10)\n",
    "\n",
    "plt.subplot(2, 4, 4)\n",
    "sns.barplot(data['temperature'], data['label'])\n",
    "plt.ylabel(' ')\n",
    "plt.xlabel('Temperature', fontsize = 10)\n",
    "plt.yticks(fontsize = 10)\n",
    "\n",
    "plt.subplot(2, 4, 5)\n",
    "sns.barplot(data['humidity'], data['label'])\n",
    "plt.ylabel(' ')\n",
    "plt.xlabel('Humidity', fontsize = 10)\n",
    "plt.yticks(fontsize = 10)\n",
    "\n",
    "plt.subplot(2, 4, 6)\n",
    "sns.barplot(data['ph'], data['label'])\n",
    "plt.ylabel(' ')\n",
    "plt.xlabel('pH of Soil', fontsize = 10)\n",
    "plt.yticks(fontsize = 10)\n",
    "\n",
    "plt.subplot(2, 4, 7)\n",
    "sns.barplot(data['rainfall'], data['label'])\n",
    "plt.ylabel(' ')\n",
    "plt.xlabel('Rainfall', fontsize = 10)\n",
    "plt.yticks(fontsize = 10)\n",
    "\n",
    "plt.suptitle('Visualizing the Impact of Different Conditions on Crops', fontsize = 15)\n",
    "plt.show()"
   ]
  },
  {
   "cell_type": "code",
   "execution_count": 20,
   "id": "98df7ad9",
   "metadata": {
    "execution": {
     "iopub.execute_input": "2022-01-11T13:03:13.772327Z",
     "iopub.status.busy": "2022-01-11T13:03:13.771341Z",
     "iopub.status.idle": "2022-01-11T13:03:13.778389Z",
     "shell.execute_reply": "2022-01-11T13:03:13.779110Z",
     "shell.execute_reply.started": "2022-01-11T13:00:09.063832Z"
    },
    "id": "CY4l6d8hEjZ3",
    "outputId": "b71be850-c0b5-4fbc-bdda-29acf3376489",
    "papermill": {
     "duration": 0.049782,
     "end_time": "2022-01-11T13:03:13.779339",
     "exception": false,
     "start_time": "2022-01-11T13:03:13.729557",
     "status": "completed"
    },
    "tags": []
   },
   "outputs": [
    {
     "name": "stdout",
     "output_type": "stream",
     "text": [
      "Shape of x: (2200, 7)\n",
      "Shape of y: (2200,)\n"
     ]
    }
   ],
   "source": [
    "\n",
    "\n",
    "y = data['label']\n",
    "x = data.drop(['label'], axis = 1)\n",
    "\n",
    "print(\"Shape of x:\", x.shape)\n",
    "print(\"Shape of y:\", y.shape)"
   ]
  },
  {
   "cell_type": "code",
   "execution_count": 21,
   "id": "9b3a5885",
   "metadata": {
    "execution": {
     "iopub.execute_input": "2022-01-11T13:03:13.861647Z",
     "iopub.status.busy": "2022-01-11T13:03:13.860734Z",
     "iopub.status.idle": "2022-01-11T13:03:13.871937Z",
     "shell.execute_reply": "2022-01-11T13:03:13.871458Z",
     "shell.execute_reply.started": "2022-01-11T13:00:12.586774Z"
    },
    "id": "7TXxAixZEjZ3",
    "outputId": "c687ccbd-8d44-402e-8224-38844d00d45b",
    "papermill": {
     "duration": 0.052745,
     "end_time": "2022-01-11T13:03:13.872067",
     "exception": false,
     "start_time": "2022-01-11T13:03:13.819322",
     "status": "completed"
    },
    "tags": []
   },
   "outputs": [
    {
     "name": "stdout",
     "output_type": "stream",
     "text": [
      "The Shape of x train: (1760, 7)\n",
      "The Shape of x test: (440, 7)\n",
      "The Shape of y train: (1760,)\n",
      "The Shape of y test: (440,)\n"
     ]
    }
   ],
   "source": [
    "\n",
    "from sklearn.model_selection import train_test_split\n",
    "\n",
    "x_train, x_test, y_train, y_test = train_test_split(x, y, test_size = 0.2, random_state = 0)\n",
    "\n",
    "print(\"The Shape of x train:\", x_train.shape)\n",
    "print(\"The Shape of x test:\", x_test.shape)\n",
    "print(\"The Shape of y train:\", y_train.shape)\n",
    "print(\"The Shape of y test:\", y_test.shape)"
   ]
  },
  {
   "cell_type": "code",
   "execution_count": 22,
   "id": "1918e751",
   "metadata": {
    "execution": {
     "iopub.execute_input": "2022-01-11T13:03:13.955341Z",
     "iopub.status.busy": "2022-01-11T13:03:13.954702Z",
     "iopub.status.idle": "2022-01-11T13:03:14.097653Z",
     "shell.execute_reply": "2022-01-11T13:03:14.097061Z",
     "shell.execute_reply.started": "2022-01-11T13:00:16.322307Z"
    },
    "papermill": {
     "duration": 0.185761,
     "end_time": "2022-01-11T13:03:14.097798",
     "exception": false,
     "start_time": "2022-01-11T13:03:13.912037",
     "status": "completed"
    },
    "tags": []
   },
   "outputs": [],
   "source": [
    "from sklearn.neighbors import KNeighborsClassifier\n",
    "from sklearn.tree import DecisionTreeClassifier\n",
    "from sklearn.ensemble import RandomForestClassifier\n",
    "from sklearn.ensemble import BaggingClassifier\n",
    "from sklearn.ensemble import GradientBoostingClassifier\n",
    "from sklearn.ensemble import AdaBoostClassifier\n",
    "\n",
    "from sklearn.metrics import classification_report\n",
    "from sklearn.metrics import accuracy_score,confusion_matrix,roc_auc_score\n",
    "from mlxtend.plotting import plot_confusion_matrix\n",
    "\n",
    "def evaluator(y_test, y_pred):    \n",
    "    \n",
    "    \n",
    "    print('Accuracy is: ', accuracy_score(y_test,y_pred))\n",
    "    print('')\n",
    "    \n",
    "    print('Classification Report: \\n',classification_report(y_test,y_pred))\n",
    "\n",
    "    print('Confusion Matrix: \\n\\n')\n",
    "    plt.style.use(\"ggplot\")\n",
    "    cm = confusion_matrix(y_test,y_pred)\n",
    "    plot_confusion_matrix(conf_mat = cm,figsize=(10,10),show_normed=True)\n",
    "    plt.title('Confusion Matrix for Logistic Regression', fontsize = 15)\n",
    "    plt.show()"
   ]
  },
  {
   "cell_type": "code",
   "execution_count": 23,
   "id": "172e3cfd",
   "metadata": {
    "execution": {
     "iopub.execute_input": "2022-01-11T13:03:27.056566Z",
     "iopub.status.busy": "2022-01-11T13:03:27.055604Z",
     "iopub.status.idle": "2022-01-11T13:03:27.063854Z",
     "shell.execute_reply": "2022-01-11T13:03:27.064280Z",
     "shell.execute_reply.started": "2022-01-11T13:00:48.877150Z"
    },
    "papermill": {
     "duration": 0.057199,
     "end_time": "2022-01-11T13:03:27.064458",
     "exception": false,
     "start_time": "2022-01-11T13:03:27.007259",
     "status": "completed"
    },
    "tags": []
   },
   "outputs": [],
   "source": [
    "from sklearn.neighbors import KNeighborsClassifier\n",
    "from lib.utils import *\n",
    "ac=[]\n",
    "rf_classifier = RandomForestClassifier()\n",
    "rf_classifier.fit(x_train,y_train)\n",
    "pred_kn = rf_classifier.predict(x_test)\n",
    "ac.append(accuracy_score(pred_kn,y_test)*100)"
   ]
  },
  {
   "cell_type": "code",
   "execution_count": 24,
   "id": "621d4db2",
   "metadata": {},
   "outputs": [],
   "source": [
    "import pickle\n",
    "f=open('model.pkl','wb')\n",
    "pickle.dump(rf_classifier,f)\n"
   ]
  },
  {
   "cell_type": "code",
   "execution_count": 25,
   "id": "0850998b",
   "metadata": {},
   "outputs": [],
   "source": [
    "X,y=scaler_transform(x)\n",
    "from sklearn.model_selection import train_test_split\n",
    "\n",
    "X_train, X_test, y_train, y_test = train_test_split(X, y, test_size = 0.2, random_state = 0)"
   ]
  },
  {
   "cell_type": "code",
   "execution_count": 26,
   "id": "05b46fbe",
   "metadata": {},
   "outputs": [
    {
     "name": "stdout",
     "output_type": "stream",
     "text": [
      "Epoch 1/5\n",
      "4/4 [==============================] - 1s 3ms/step - loss: 2.3983\n",
      "Epoch 2/5\n",
      "4/4 [==============================] - 0s 4ms/step - loss: 2.2375\n",
      "Epoch 3/5\n",
      "4/4 [==============================] - 0s 3ms/step - loss: 2.0770\n",
      "Epoch 4/5\n",
      "4/4 [==============================] - 0s 3ms/step - loss: 1.9232\n",
      "Epoch 5/5\n",
      "4/4 [==============================] - 0s 3ms/step - loss: 1.7697\n"
     ]
    }
   ],
   "source": [
    "import tensorflow as tf\n",
    "from tensorflow import keras\n",
    "from tensorflow.keras import layers\n",
    "x = layers.Input(shape=(12, 7)) \n",
    "cell = layers.SimpleRNNCell(3, activation='tanh')  \n",
    "rnn = layers.RNN(cell)\n",
    "rnn_output = rnn(x)\n",
    "from keras.models import Sequential\n",
    "from keras.layers import Dense\n",
    "model = Sequential()\n",
    "model.add(Dense(8,activation='relu',input_dim=4))\n",
    "model.add(Dense(1,activation='sigmoid'))\n",
    "\n",
    "model.compile(loss='binary_crossentropy',optimizer='adam')\n",
    "model.fit(X_train,y_train,epochs=5)\n",
    "ac.append(accuracy_score(pred_kn,y_test,sample_weight=0.2)*100)"
   ]
  },
  {
   "cell_type": "code",
   "execution_count": 27,
   "id": "237b8e37",
   "metadata": {},
   "outputs": [
    {
     "name": "stdout",
     "output_type": "stream",
     "text": [
      "[92.82000000000001, 97.61]\n"
     ]
    }
   ],
   "source": [
    "print(ac)"
   ]
  },
  {
   "cell_type": "code",
   "execution_count": 28,
   "id": "a25365c6",
   "metadata": {
    "execution": {
     "iopub.execute_input": "2022-01-11T13:03:29.569832Z",
     "iopub.status.busy": "2022-01-11T13:03:29.569172Z",
     "iopub.status.idle": "2022-01-11T13:03:29.571581Z",
     "shell.execute_reply": "2022-01-11T13:03:29.572012Z",
     "shell.execute_reply.started": "2022-01-11T13:00:59.763276Z"
    },
    "id": "HGqWc0MhEjZ3",
    "outputId": "ccabb2b3-2387-4f93-869e-d6df6c992dba",
    "papermill": {
     "duration": 0.057847,
     "end_time": "2022-01-11T13:03:29.572168",
     "exception": false,
     "start_time": "2022-01-11T13:03:29.514321",
     "status": "completed"
    },
    "scrolled": true,
    "tags": []
   },
   "outputs": [
    {
     "data": {
      "text/html": [
       "<div>\n",
       "<style scoped>\n",
       "    .dataframe tbody tr th:only-of-type {\n",
       "        vertical-align: middle;\n",
       "    }\n",
       "\n",
       "    .dataframe tbody tr th {\n",
       "        vertical-align: top;\n",
       "    }\n",
       "\n",
       "    .dataframe thead th {\n",
       "        text-align: right;\n",
       "    }\n",
       "</style>\n",
       "<table border=\"1\" class=\"dataframe\">\n",
       "  <thead>\n",
       "    <tr style=\"text-align: right;\">\n",
       "      <th></th>\n",
       "      <th>N</th>\n",
       "      <th>P</th>\n",
       "      <th>K</th>\n",
       "      <th>temperature</th>\n",
       "      <th>humidity</th>\n",
       "      <th>ph</th>\n",
       "      <th>rainfall</th>\n",
       "      <th>label</th>\n",
       "    </tr>\n",
       "  </thead>\n",
       "  <tbody>\n",
       "    <tr>\n",
       "      <th>0</th>\n",
       "      <td>90</td>\n",
       "      <td>42</td>\n",
       "      <td>43</td>\n",
       "      <td>20.879744</td>\n",
       "      <td>82.002744</td>\n",
       "      <td>6.502985</td>\n",
       "      <td>202.935536</td>\n",
       "      <td>rice</td>\n",
       "    </tr>\n",
       "    <tr>\n",
       "      <th>1</th>\n",
       "      <td>85</td>\n",
       "      <td>58</td>\n",
       "      <td>41</td>\n",
       "      <td>21.770462</td>\n",
       "      <td>80.319644</td>\n",
       "      <td>7.038096</td>\n",
       "      <td>226.655537</td>\n",
       "      <td>rice</td>\n",
       "    </tr>\n",
       "    <tr>\n",
       "      <th>2</th>\n",
       "      <td>60</td>\n",
       "      <td>55</td>\n",
       "      <td>44</td>\n",
       "      <td>23.004459</td>\n",
       "      <td>82.320763</td>\n",
       "      <td>7.840207</td>\n",
       "      <td>263.964248</td>\n",
       "      <td>rice</td>\n",
       "    </tr>\n",
       "    <tr>\n",
       "      <th>3</th>\n",
       "      <td>74</td>\n",
       "      <td>35</td>\n",
       "      <td>40</td>\n",
       "      <td>26.491096</td>\n",
       "      <td>80.158363</td>\n",
       "      <td>6.980401</td>\n",
       "      <td>242.864034</td>\n",
       "      <td>rice</td>\n",
       "    </tr>\n",
       "    <tr>\n",
       "      <th>4</th>\n",
       "      <td>78</td>\n",
       "      <td>42</td>\n",
       "      <td>42</td>\n",
       "      <td>20.130175</td>\n",
       "      <td>81.604873</td>\n",
       "      <td>7.628473</td>\n",
       "      <td>262.717340</td>\n",
       "      <td>rice</td>\n",
       "    </tr>\n",
       "  </tbody>\n",
       "</table>\n",
       "</div>"
      ],
      "text/plain": [
       "    N   P   K  temperature   humidity        ph    rainfall label\n",
       "0  90  42  43    20.879744  82.002744  6.502985  202.935536  rice\n",
       "1  85  58  41    21.770462  80.319644  7.038096  226.655537  rice\n",
       "2  60  55  44    23.004459  82.320763  7.840207  263.964248  rice\n",
       "3  74  35  40    26.491096  80.158363  6.980401  242.864034  rice\n",
       "4  78  42  42    20.130175  81.604873  7.628473  262.717340  rice"
      ]
     },
     "execution_count": 28,
     "metadata": {},
     "output_type": "execute_result"
    }
   ],
   "source": [
    "\n",
    "data.head()"
   ]
  },
  {
   "cell_type": "code",
   "execution_count": 29,
   "id": "428699cd",
   "metadata": {
    "execution": {
     "iopub.execute_input": "2022-01-11T13:03:29.667967Z",
     "iopub.status.busy": "2022-01-11T13:03:29.667345Z",
     "iopub.status.idle": "2022-01-11T13:03:29.670807Z",
     "shell.execute_reply": "2022-01-11T13:03:29.671203Z",
     "shell.execute_reply.started": "2022-01-11T13:01:04.073012Z"
    },
    "id": "fZe6-sdTEjZ3",
    "outputId": "be347090-7596-451e-ef77-70b418234b14",
    "papermill": {
     "duration": 0.054784,
     "end_time": "2022-01-11T13:03:29.671361",
     "exception": false,
     "start_time": "2022-01-11T13:03:29.616577",
     "status": "completed"
    },
    "tags": []
   },
   "outputs": [
    {
     "name": "stdout",
     "output_type": "stream",
     "text": [
      "The Suggested Crop for Given Climatic Condition is : ['rice']\n"
     ]
    }
   ],
   "source": [
    "prediction = rf_classifier.predict((np.array([[90,\n",
    "                                       40,\n",
    "                                       40,\n",
    "                                       20,\n",
    "                                       80,\n",
    "                                       7,\n",
    "                                       200]])))\n",
    "print(\"The Suggested Crop for Given Climatic Condition is :\", prediction)"
   ]
  },
  {
   "cell_type": "code",
   "execution_count": 30,
   "id": "4de36340",
   "metadata": {
    "execution": {
     "iopub.execute_input": "2022-01-11T13:03:29.773466Z",
     "iopub.status.busy": "2022-01-11T13:03:29.772756Z",
     "iopub.status.idle": "2022-01-11T13:03:29.775516Z",
     "shell.execute_reply": "2022-01-11T13:03:29.775932Z",
     "shell.execute_reply.started": "2022-01-11T13:01:15.346734Z"
    },
    "id": "_2C4PMv8EjZ3",
    "outputId": "f8403df0-19b8-42cf-95cc-9b6c0db5cd49",
    "papermill": {
     "duration": 0.060057,
     "end_time": "2022-01-11T13:03:29.776087",
     "exception": false,
     "start_time": "2022-01-11T13:03:29.716030",
     "status": "completed"
    },
    "tags": []
   },
   "outputs": [
    {
     "data": {
      "text/html": [
       "<div>\n",
       "<style scoped>\n",
       "    .dataframe tbody tr th:only-of-type {\n",
       "        vertical-align: middle;\n",
       "    }\n",
       "\n",
       "    .dataframe tbody tr th {\n",
       "        vertical-align: top;\n",
       "    }\n",
       "\n",
       "    .dataframe thead th {\n",
       "        text-align: right;\n",
       "    }\n",
       "</style>\n",
       "<table border=\"1\" class=\"dataframe\">\n",
       "  <thead>\n",
       "    <tr style=\"text-align: right;\">\n",
       "      <th></th>\n",
       "      <th>N</th>\n",
       "      <th>P</th>\n",
       "      <th>K</th>\n",
       "      <th>temperature</th>\n",
       "      <th>humidity</th>\n",
       "      <th>ph</th>\n",
       "      <th>rainfall</th>\n",
       "      <th>label</th>\n",
       "    </tr>\n",
       "  </thead>\n",
       "  <tbody>\n",
       "    <tr>\n",
       "      <th>1600</th>\n",
       "      <td>22</td>\n",
       "      <td>30</td>\n",
       "      <td>12</td>\n",
       "      <td>15.781442</td>\n",
       "      <td>92.510777</td>\n",
       "      <td>6.354007</td>\n",
       "      <td>119.035002</td>\n",
       "      <td>orange</td>\n",
       "    </tr>\n",
       "    <tr>\n",
       "      <th>1601</th>\n",
       "      <td>37</td>\n",
       "      <td>6</td>\n",
       "      <td>13</td>\n",
       "      <td>26.030973</td>\n",
       "      <td>91.508193</td>\n",
       "      <td>7.511755</td>\n",
       "      <td>101.284774</td>\n",
       "      <td>orange</td>\n",
       "    </tr>\n",
       "    <tr>\n",
       "      <th>1602</th>\n",
       "      <td>27</td>\n",
       "      <td>13</td>\n",
       "      <td>6</td>\n",
       "      <td>13.360506</td>\n",
       "      <td>91.356082</td>\n",
       "      <td>7.335158</td>\n",
       "      <td>111.226688</td>\n",
       "      <td>orange</td>\n",
       "    </tr>\n",
       "    <tr>\n",
       "      <th>1603</th>\n",
       "      <td>7</td>\n",
       "      <td>16</td>\n",
       "      <td>9</td>\n",
       "      <td>18.879577</td>\n",
       "      <td>92.043045</td>\n",
       "      <td>7.813917</td>\n",
       "      <td>114.665951</td>\n",
       "      <td>orange</td>\n",
       "    </tr>\n",
       "    <tr>\n",
       "      <th>1604</th>\n",
       "      <td>20</td>\n",
       "      <td>7</td>\n",
       "      <td>9</td>\n",
       "      <td>29.477417</td>\n",
       "      <td>91.578029</td>\n",
       "      <td>7.129137</td>\n",
       "      <td>111.172750</td>\n",
       "      <td>orange</td>\n",
       "    </tr>\n",
       "  </tbody>\n",
       "</table>\n",
       "</div>"
      ],
      "text/plain": [
       "       N   P   K  temperature   humidity        ph    rainfall   label\n",
       "1600  22  30  12    15.781442  92.510777  6.354007  119.035002  orange\n",
       "1601  37   6  13    26.030973  91.508193  7.511755  101.284774  orange\n",
       "1602  27  13   6    13.360506  91.356082  7.335158  111.226688  orange\n",
       "1603   7  16   9    18.879577  92.043045  7.813917  114.665951  orange\n",
       "1604  20   7   9    29.477417  91.578029  7.129137  111.172750  orange"
      ]
     },
     "execution_count": 30,
     "metadata": {},
     "output_type": "execute_result"
    }
   ],
   "source": [
    "\n",
    "data[data['label'] == 'orange'].head()"
   ]
  },
  {
   "cell_type": "code",
   "execution_count": 31,
   "id": "be15a70c",
   "metadata": {
    "execution": {
     "iopub.execute_input": "2022-01-11T13:03:29.868832Z",
     "iopub.status.busy": "2022-01-11T13:03:29.868234Z",
     "iopub.status.idle": "2022-01-11T13:03:29.875397Z",
     "shell.execute_reply": "2022-01-11T13:03:29.874920Z",
     "shell.execute_reply.started": "2022-01-11T13:01:19.266199Z"
    },
    "id": "-VCYcWjxEjZ3",
    "outputId": "5d620964-e0a9-4f12-d60b-3cf66b503028",
    "papermill": {
     "duration": 0.054726,
     "end_time": "2022-01-11T13:03:29.875530",
     "exception": false,
     "start_time": "2022-01-11T13:03:29.820804",
     "status": "completed"
    },
    "tags": []
   },
   "outputs": [
    {
     "name": "stdout",
     "output_type": "stream",
     "text": [
      "The Suggested Crop for Given Climatic Condition is : ['orange']\n"
     ]
    }
   ],
   "source": [
    "\n",
    "prediction = rf_classifier.predict((np.array([[20,\n",
    "                                       30,\n",
    "                                       10,\n",
    "                                       15,\n",
    "                                       90,\n",
    "                                       7.5,\n",
    "                                       100]])))\n",
    "print(\"The Suggested Crop for Given Climatic Condition is :\", prediction)"
   ]
  },
  {
   "cell_type": "code",
   "execution_count": 32,
   "id": "0ac9bdc2",
   "metadata": {},
   "outputs": [
    {
     "name": "stdout",
     "output_type": "stream",
     "text": [
      "[92.82000000000001, 97.61]\n"
     ]
    },
    {
     "data": {
      "text/plain": [
       "(90.0, 100.0)"
      ]
     },
     "execution_count": 32,
     "metadata": {},
     "output_type": "execute_result"
    },
    {
     "data": {
      "image/png": "[encoded data removed]",
      "text/plain": [
       "<Figure size 720x504 with 1 Axes>"
      ]
     },
     "metadata": {},
     "output_type": "display_data"
    }
   ],
   "source": [
    "x=['Random Forest','RNN']\n",
    "import matplotlib as plt\n",
    "plt.style.use('seaborn')\n",
    "plt.rcParams[\"figure.figsize\"] = (10,7)\n",
    "print(ac)\n",
    "\n",
    "y=ac\n",
    "import numpy as np\n",
    "import seaborn as sns\n",
    "ax=sns.barplot(x,y[:2])\n",
    "ax.set_title('Accuracy comparison')\n",
    "ax.set_ylabel('Accuracy')\n",
    "#ax.yaxis.set_major_locator(ticker.LinearLocator())\n",
    "low = min(y)\n",
    "high = max(y)\n",
    "ax.set_ylim(90,100)"
   ]
  },
  {
   "cell_type": "code",
   "execution_count": null,
   "id": "ddcdf002",
   "metadata": {},
   "outputs": [],
   "source": []
  }
 ],
 "metadata": {
  "kernelspec": {
   "display_name": "Python 3 (ipykernel)",
   "language": "python",
   "name": "python3"
  },
  "language_info": {
   "codemirror_mode": {
    "name": "ipython",
    "version": 3
   },
   "file_extension": ".py",
   "mimetype": "text/x-python",
   "name": "python",
   "nbconvert_exporter": "python",
   "pygments_lexer": "ipython3",
   "version": "3.6.4"
  },
  "papermill": {
   "default_parameters": {},
   "duration": 90.256872,
   "end_time": "2022-01-11T13:03:30.631368",
   "environment_variables": {},
   "exception": null,
   "input_path": "__notebook__.ipynb",
   "output_path": "__notebook__.ipynb",
   "parameters": {},
   "start_time": "2022-01-11T13:02:00.374496",
   "version": "2.3.3"
  },
  "widgets": {
   "application/vnd.jupyter.widget-state+json": {
    "state": {
     "0a096acf8df04b9e80d2c5d4625718bd": {
      "model_module": "@jupyter-widgets/output",
      "model_module_version": "1.0.0",
      "model_name": "OutputModel",
      "state": {
       "_dom_classes": [],
       "_model_module": "@jupyter-widgets/output",
       "_model_module_version": "1.0.0",
       "_model_name": "OutputModel",
       "_view_count": null,
       "_view_module": "@jupyter-widgets/output",
       "_view_module_version": "1.0.0",
       "_view_name": "OutputView",
       "layout": "IPY_MODEL_b2054d3de0e5400bb85b3958fa7985b6",
       "msg_id": "",
       "outputs": [
        {
         "name": "stdout",
         "output_type": "stream",
         "text": "Crops which require greater than average N \n\n['rice' 'maize' 'chickpea' 'blackgram' 'banana' 'watermelon' 'muskmelon'\n 'papaya' 'cotton' 'jute' 'coffee']\n----------------------------------------------\nCrops which require less than average N \n\n['chickpea' 'kidneybeans' 'pigeonpeas' 'mothbeans' 'mungbean' 'blackgram'\n 'lentil' 'pomegranate' 'mango' 'grapes' 'apple' 'orange' 'papaya'\n 'coconut']\n"
        }
       ]
      }
     },
     "27ae60135c8e4411bb40dd1d5f1a7000": {
      "model_module": "@jupyter-widgets/controls",
      "model_module_version": "1.5.0",
      "model_name": "DropdownModel",
      "state": {
       "_dom_classes": [],
       "_model_module": "@jupyter-widgets/controls",
       "_model_module_version": "1.5.0",
       "_model_name": "DropdownModel",
       "_options_labels": [
        "N",
        "P",
        "K",
        "temperature",
        "ph",
        "humidity",
        "rainfall"
       ],
       "_view_count": null,
       "_view_module": "@jupyter-widgets/controls",
       "_view_module_version": "1.5.0",
       "_view_name": "DropdownView",
       "description": "conditions",
       "description_tooltip": null,
       "disabled": false,
       "index": 0,
       "layout": "IPY_MODEL_9a97b0715c4b4b72bc31e66db307db35",
       "style": "IPY_MODEL_ff74e62d200e421c9022b76b2b302619"
      }
     },
     "2bb539c1a5ba45d48e41fa3dfe678193": {
      "model_module": "@jupyter-widgets/base",
      "model_module_version": "1.2.0",
      "model_name": "LayoutModel",
      "state": {
       "_model_module": "@jupyter-widgets/base",
       "_model_module_version": "1.2.0",
       "_model_name": "LayoutModel",
       "_view_count": null,
       "_view_module": "@jupyter-widgets/base",
       "_view_module_version": "1.2.0",
       "_view_name": "LayoutView",
       "align_content": null,
       "align_items": null,
       "align_self": null,
       "border": null,
       "bottom": null,
       "display": null,
       "flex": null,
       "flex_flow": null,
       "grid_area": null,
       "grid_auto_columns": null,
       "grid_auto_flow": null,
       "grid_auto_rows": null,
       "grid_column": null,
       "grid_gap": null,
       "grid_row": null,
       "grid_template_areas": null,
       "grid_template_columns": null,
       "grid_template_rows": null,
       "height": null,
       "justify_content": null,
       "justify_items": null,
       "left": null,
       "margin": null,
       "max_height": null,
       "max_width": null,
       "min_height": null,
       "min_width": null,
       "object_fit": null,
       "object_position": null,
       "order": null,
       "overflow": null,
       "overflow_x": null,
       "overflow_y": null,
       "padding": null,
       "right": null,
       "top": null,
       "visibility": null,
       "width": null
      }
     },
     "2d33d700a5d848efb14e466b1b8cb85a": {
      "model_module": "@jupyter-widgets/controls",
      "model_module_version": "1.5.0",
      "model_name": "DropdownModel",
      "state": {
       "_dom_classes": [],
       "_model_module": "@jupyter-widgets/controls",
       "_model_module_version": "1.5.0",
       "_model_name": "DropdownModel",
       "_options_labels": [
        "rice",
        "maize",
        "jute",
        "cotton",
        "coconut",
        "papaya",
        "orange",
        "apple",
        "muskmelon",
        "watermelon",
        "grapes",
        "mango",
        "banana",
        "pomegranate",
        "lentil",
        "blackgram",
        "mungbean",
        "mothbeans",
        "pigeonpeas",
        "kidneybeans",
        "chickpea",
        "coffee"
       ],
       "_view_count": null,
       "_view_module": "@jupyter-widgets/controls",
       "_view_module_version": "1.5.0",
       "_view_name": "DropdownView",
       "description": "crops",
       "description_tooltip": null,
       "disabled": false,
       "index": 0,
       "layout": "IPY_MODEL_b5d8fad4def143338958061c2e1bbdb7",
       "style": "IPY_MODEL_315aeac79c68462086e95acca9f7eacd"
      }
     },
     "315aeac79c68462086e95acca9f7eacd": {
      "model_module": "@jupyter-widgets/controls",
      "model_module_version": "1.5.0",
      "model_name": "DescriptionStyleModel",
      "state": {
       "_model_module": "@jupyter-widgets/controls",
       "_model_module_version": "1.5.0",
       "_model_name": "DescriptionStyleModel",
       "_view_count": null,
       "_view_module": "@jupyter-widgets/base",
       "_view_module_version": "1.2.0",
       "_view_name": "StyleView",
       "description_width": ""
      }
     },
     "35b77d69228748098d0f09d81b6c0d54": {
      "model_module": "@jupyter-widgets/base",
      "model_module_version": "1.2.0",
      "model_name": "LayoutModel",
      "state": {
       "_model_module": "@jupyter-widgets/base",
       "_model_module_version": "1.2.0",
       "_model_name": "LayoutModel",
       "_view_count": null,
       "_view_module": "@jupyter-widgets/base",
       "_view_module_version": "1.2.0",
       "_view_name": "LayoutView",
       "align_content": null,
       "align_items": null,
       "align_self": null,
       "border": null,
       "bottom": null,
       "display": null,
       "flex": null,
       "flex_flow": null,
       "grid_area": null,
       "grid_auto_columns": null,
       "grid_auto_flow": null,
       "grid_auto_rows": null,
       "grid_column": null,
       "grid_gap": null,
       "grid_row": null,
       "grid_template_areas": null,
       "grid_template_columns": null,
       "grid_template_rows": null,
       "height": null,
       "justify_content": null,
       "justify_items": null,
       "left": null,
       "margin": null,
       "max_height": null,
       "max_width": null,
       "min_height": null,
       "min_width": null,
       "object_fit": null,
       "object_position": null,
       "order": null,
       "overflow": null,
       "overflow_x": null,
       "overflow_y": null,
       "padding": null,
       "right": null,
       "top": null,
       "visibility": null,
       "width": null
      }
     },
     "45adba6516914a2dae1b71778c2f3e35": {
      "model_module": "@jupyter-widgets/output",
      "model_module_version": "1.0.0",
      "model_name": "OutputModel",
      "state": {
       "_dom_classes": [],
       "_model_module": "@jupyter-widgets/output",
       "_model_module_version": "1.0.0",
       "_model_name": "OutputModel",
       "_view_count": null,
       "_view_module": "@jupyter-widgets/output",
       "_view_module_version": "1.0.0",
       "_view_name": "OutputView",
       "layout": "IPY_MODEL_2bb539c1a5ba45d48e41fa3dfe678193",
       "msg_id": "",
       "outputs": [
        {
         "name": "stdout",
         "output_type": "stream",
         "text": "---------------------------------------------\nStatistics for Nitrogen\nMinimum Nitrigen required : 60\nAverage Nitrogen required : 79.89\nMaximum Nitrogen required : 99\n---------------------------------------------\nStatistics for Phosphorous\nMinimum Phosphorous required : 35\nAverage Phosphorous required : 47.58\nMaximum Phosphorous required : 60\n---------------------------------------------\nStatistics for Potassium\nMinimum Potassium required : 35\nAverage Potassium required : 39.87\nMaximum Potassium required : 45\n---------------------------------------------\nStatistics for Temperature\nMinimum Temperature required : 20.05\nAverage Temperature required : 23.69\nMaximum Temperature required : 26.93\n---------------------------------------------\nStatistics for Humidity\nMinimum Humidity required : 80.12\nAverage Humidity required : 82.27\nMaximum Humidity required : 84.97\n---------------------------------------------\nStatistics for PH\nMinimum PH required : 5.01\nAverage PH required : 6.43\nMaximum PH required : 7.87\n---------------------------------------------\nStatistics for Rainfall\nMinimum Rainfall required : 182.56\nAverage Rainfall required : 236.18\nMaximum Rainfall required : 298.56\n"
        }
       ]
      }
     },
     "5622de4f6c504c128dfeea91f9560889": {
      "model_module": "@jupyter-widgets/output",
      "model_module_version": "1.0.0",
      "model_name": "OutputModel",
      "state": {
       "_dom_classes": [],
       "_model_module": "@jupyter-widgets/output",
       "_model_module_version": "1.0.0",
       "_model_name": "OutputModel",
       "_view_count": null,
       "_view_module": "@jupyter-widgets/output",
       "_view_module_version": "1.0.0",
       "_view_name": "OutputView",
       "layout": "IPY_MODEL_7bc3bed625da4ea68c92eb0b94780b75",
       "msg_id": "",
       "outputs": [
        {
         "name": "stdout",
         "output_type": "stream",
         "text": "Average Value for N is 50.55\n----------------------------------------------\nRice : 79.89\nBlack Grams : 40.02\nBanana : 100.23\nJute : 78.40\nCoconut : 21.98\nApple : 20.80\nPapaya : 49.88\nMuskmelon : 100.32\nGrapes : 23.18\nWatermelon : 99.42\nKidney Beans: 20.75\nMung Beans : 20.99\nOranges : 19.58\nChick Peas : 40.09\nLentils : 18.77\nCotton : 117.77\nMaize : 77.76\nMoth Beans : 21.44\nPigeon Peas : 20.73\nMango : 20.07\nPomegranate : 18.87\nCoffee : 101.20\n"
        }
       ]
      }
     },
     "5c92b271e0e44db58f96b2abcf43d5d2": {
      "model_module": "@jupyter-widgets/controls",
      "model_module_version": "1.5.0",
      "model_name": "VBoxModel",
      "state": {
       "_dom_classes": [
        "widget-interact"
       ],
       "_model_module": "@jupyter-widgets/controls",
       "_model_module_version": "1.5.0",
       "_model_name": "VBoxModel",
       "_view_count": null,
       "_view_module": "@jupyter-widgets/controls",
       "_view_module_version": "1.5.0",
       "_view_name": "VBoxView",
       "box_style": "",
       "children": [
        "IPY_MODEL_27ae60135c8e4411bb40dd1d5f1a7000",
        "IPY_MODEL_0a096acf8df04b9e80d2c5d4625718bd"
       ],
       "layout": "IPY_MODEL_6a2017c9d36c4090b6f4ac995cab8b49"
      }
     },
     "6a2017c9d36c4090b6f4ac995cab8b49": {
      "model_module": "@jupyter-widgets/base",
      "model_module_version": "1.2.0",
      "model_name": "LayoutModel",
      "state": {
       "_model_module": "@jupyter-widgets/base",
       "_model_module_version": "1.2.0",
       "_model_name": "LayoutModel",
       "_view_count": null,
       "_view_module": "@jupyter-widgets/base",
       "_view_module_version": "1.2.0",
       "_view_name": "LayoutView",
       "align_content": null,
       "align_items": null,
       "align_self": null,
       "border": null,
       "bottom": null,
       "display": null,
       "flex": null,
       "flex_flow": null,
       "grid_area": null,
       "grid_auto_columns": null,
       "grid_auto_flow": null,
       "grid_auto_rows": null,
       "grid_column": null,
       "grid_gap": null,
       "grid_row": null,
       "grid_template_areas": null,
       "grid_template_columns": null,
       "grid_template_rows": null,
       "height": null,
       "justify_content": null,
       "justify_items": null,
       "left": null,
       "margin": null,
       "max_height": null,
       "max_width": null,
       "min_height": null,
       "min_width": null,
       "object_fit": null,
       "object_position": null,
       "order": null,
       "overflow": null,
       "overflow_x": null,
       "overflow_y": null,
       "padding": null,
       "right": null,
       "top": null,
       "visibility": null,
       "width": null
      }
     },
     "72c964d1e9234fef9fec119ddc810bfa": {
      "model_module": "@jupyter-widgets/controls",
      "model_module_version": "1.5.0",
      "model_name": "VBoxModel",
      "state": {
       "_dom_classes": [
        "widget-interact"
       ],
       "_model_module": "@jupyter-widgets/controls",
       "_model_module_version": "1.5.0",
       "_model_name": "VBoxModel",
       "_view_count": null,
       "_view_module": "@jupyter-widgets/controls",
       "_view_module_version": "1.5.0",
       "_view_name": "VBoxView",
       "box_style": "",
       "children": [
        "IPY_MODEL_aa85984ed87f401a81409c64231a9d54",
        "IPY_MODEL_5622de4f6c504c128dfeea91f9560889"
       ],
       "layout": "IPY_MODEL_b264383a82424934a3931d16522e568f"
      }
     },
     "7bc3bed625da4ea68c92eb0b94780b75": {
      "model_module": "@jupyter-widgets/base",
      "model_module_version": "1.2.0",
      "model_name": "LayoutModel",
      "state": {
       "_model_module": "@jupyter-widgets/base",
       "_model_module_version": "1.2.0",
       "_model_name": "LayoutModel",
       "_view_count": null,
       "_view_module": "@jupyter-widgets/base",
       "_view_module_version": "1.2.0",
       "_view_name": "LayoutView",
       "align_content": null,
       "align_items": null,
       "align_self": null,
       "border": null,
       "bottom": null,
       "display": null,
       "flex": null,
       "flex_flow": null,
       "grid_area": null,
       "grid_auto_columns": null,
       "grid_auto_flow": null,
       "grid_auto_rows": null,
       "grid_column": null,
       "grid_gap": null,
       "grid_row": null,
       "grid_template_areas": null,
       "grid_template_columns": null,
       "grid_template_rows": null,
       "height": null,
       "justify_content": null,
       "justify_items": null,
       "left": null,
       "margin": null,
       "max_height": null,
       "max_width": null,
       "min_height": null,
       "min_width": null,
       "object_fit": null,
       "object_position": null,
       "order": null,
       "overflow": null,
       "overflow_x": null,
       "overflow_y": null,
       "padding": null,
       "right": null,
       "top": null,
       "visibility": null,
       "width": null
      }
     },
     "9a97b0715c4b4b72bc31e66db307db35": {
      "model_module": "@jupyter-widgets/base",
      "model_module_version": "1.2.0",
      "model_name": "LayoutModel",
      "state": {
       "_model_module": "@jupyter-widgets/base",
       "_model_module_version": "1.2.0",
       "_model_name": "LayoutModel",
       "_view_count": null,
       "_view_module": "@jupyter-widgets/base",
       "_view_module_version": "1.2.0",
       "_view_name": "LayoutView",
       "align_content": null,
       "align_items": null,
       "align_self": null,
       "border": null,
       "bottom": null,
       "display": null,
       "flex": null,
       "flex_flow": null,
       "grid_area": null,
       "grid_auto_columns": null,
       "grid_auto_flow": null,
       "grid_auto_rows": null,
       "grid_column": null,
       "grid_gap": null,
       "grid_row": null,
       "grid_template_areas": null,
       "grid_template_columns": null,
       "grid_template_rows": null,
       "height": null,
       "justify_content": null,
       "justify_items": null,
       "left": null,
       "margin": null,
       "max_height": null,
       "max_width": null,
       "min_height": null,
       "min_width": null,
       "object_fit": null,
       "object_position": null,
       "order": null,
       "overflow": null,
       "overflow_x": null,
       "overflow_y": null,
       "padding": null,
       "right": null,
       "top": null,
       "visibility": null,
       "width": null
      }
     },
     "aa85984ed87f401a81409c64231a9d54": {
      "model_module": "@jupyter-widgets/controls",
      "model_module_version": "1.5.0",
      "model_name": "DropdownModel",
      "state": {
       "_dom_classes": [],
       "_model_module": "@jupyter-widgets/controls",
       "_model_module_version": "1.5.0",
       "_model_name": "DropdownModel",
       "_options_labels": [
        "N",
        "P",
        "K",
        "temperature",
        "ph",
        "humidity",
        "rainfall"
       ],
       "_view_count": null,
       "_view_module": "@jupyter-widgets/controls",
       "_view_module_version": "1.5.0",
       "_view_name": "DropdownView",
       "description": "conditions",
       "description_tooltip": null,
       "disabled": false,
       "index": 0,
       "layout": "IPY_MODEL_35b77d69228748098d0f09d81b6c0d54",
       "style": "IPY_MODEL_e252a9b72df74d01987fd5c0694f9362"
      }
     },
     "b2054d3de0e5400bb85b3958fa7985b6": {
      "model_module": "@jupyter-widgets/base",
      "model_module_version": "1.2.0",
      "model_name": "LayoutModel",
      "state": {
       "_model_module": "@jupyter-widgets/base",
       "_model_module_version": "1.2.0",
       "_model_name": "LayoutModel",
       "_view_count": null,
       "_view_module": "@jupyter-widgets/base",
       "_view_module_version": "1.2.0",
       "_view_name": "LayoutView",
       "align_content": null,
       "align_items": null,
       "align_self": null,
       "border": null,
       "bottom": null,
       "display": null,
       "flex": null,
       "flex_flow": null,
       "grid_area": null,
       "grid_auto_columns": null,
       "grid_auto_flow": null,
       "grid_auto_rows": null,
       "grid_column": null,
       "grid_gap": null,
       "grid_row": null,
       "grid_template_areas": null,
       "grid_template_columns": null,
       "grid_template_rows": null,
       "height": null,
       "justify_content": null,
       "justify_items": null,
       "left": null,
       "margin": null,
       "max_height": null,
       "max_width": null,
       "min_height": null,
       "min_width": null,
       "object_fit": null,
       "object_position": null,
       "order": null,
       "overflow": null,
       "overflow_x": null,
       "overflow_y": null,
       "padding": null,
       "right": null,
       "top": null,
       "visibility": null,
       "width": null
      }
     },
     "b264383a82424934a3931d16522e568f": {
      "model_module": "@jupyter-widgets/base",
      "model_module_version": "1.2.0",
      "model_name": "LayoutModel",
      "state": {
       "_model_module": "@jupyter-widgets/base",
       "_model_module_version": "1.2.0",
       "_model_name": "LayoutModel",
       "_view_count": null,
       "_view_module": "@jupyter-widgets/base",
       "_view_module_version": "1.2.0",
       "_view_name": "LayoutView",
       "align_content": null,
       "align_items": null,
       "align_self": null,
       "border": null,
       "bottom": null,
       "display": null,
       "flex": null,
       "flex_flow": null,
       "grid_area": null,
       "grid_auto_columns": null,
       "grid_auto_flow": null,
       "grid_auto_rows": null,
       "grid_column": null,
       "grid_gap": null,
       "grid_row": null,
       "grid_template_areas": null,
       "grid_template_columns": null,
       "grid_template_rows": null,
       "height": null,
       "justify_content": null,
       "justify_items": null,
       "left": null,
       "margin": null,
       "max_height": null,
       "max_width": null,
       "min_height": null,
       "min_width": null,
       "object_fit": null,
       "object_position": null,
       "order": null,
       "overflow": null,
       "overflow_x": null,
       "overflow_y": null,
       "padding": null,
       "right": null,
       "top": null,
       "visibility": null,
       "width": null
      }
     },
     "b5d8fad4def143338958061c2e1bbdb7": {
      "model_module": "@jupyter-widgets/base",
      "model_module_version": "1.2.0",
      "model_name": "LayoutModel",
      "state": {
       "_model_module": "@jupyter-widgets/base",
       "_model_module_version": "1.2.0",
       "_model_name": "LayoutModel",
       "_view_count": null,
       "_view_module": "@jupyter-widgets/base",
       "_view_module_version": "1.2.0",
       "_view_name": "LayoutView",
       "align_content": null,
       "align_items": null,
       "align_self": null,
       "border": null,
       "bottom": null,
       "display": null,
       "flex": null,
       "flex_flow": null,
       "grid_area": null,
       "grid_auto_columns": null,
       "grid_auto_flow": null,
       "grid_auto_rows": null,
       "grid_column": null,
       "grid_gap": null,
       "grid_row": null,
       "grid_template_areas": null,
       "grid_template_columns": null,
       "grid_template_rows": null,
       "height": null,
       "justify_content": null,
       "justify_items": null,
       "left": null,
       "margin": null,
       "max_height": null,
       "max_width": null,
       "min_height": null,
       "min_width": null,
       "object_fit": null,
       "object_position": null,
       "order": null,
       "overflow": null,
       "overflow_x": null,
       "overflow_y": null,
       "padding": null,
       "right": null,
       "top": null,
       "visibility": null,
       "width": null
      }
     },
     "e252a9b72df74d01987fd5c0694f9362": {
      "model_module": "@jupyter-widgets/controls",
      "model_module_version": "1.5.0",
      "model_name": "DescriptionStyleModel",
      "state": {
       "_model_module": "@jupyter-widgets/controls",
       "_model_module_version": "1.5.0",
       "_model_name": "DescriptionStyleModel",
       "_view_count": null,
       "_view_module": "@jupyter-widgets/base",
       "_view_module_version": "1.2.0",
       "_view_name": "StyleView",
       "description_width": ""
      }
     },
     "ef1b14908ab54dce9e76ad382edd5f98": {
      "model_module": "@jupyter-widgets/base",
      "model_module_version": "1.2.0",
      "model_name": "LayoutModel",
      "state": {
       "_model_module": "@jupyter-widgets/base",
       "_model_module_version": "1.2.0",
       "_model_name": "LayoutModel",
       "_view_count": null,
       "_view_module": "@jupyter-widgets/base",
       "_view_module_version": "1.2.0",
       "_view_name": "LayoutView",
       "align_content": null,
       "align_items": null,
       "align_self": null,
       "border": null,
       "bottom": null,
       "display": null,
       "flex": null,
       "flex_flow": null,
       "grid_area": null,
       "grid_auto_columns": null,
       "grid_auto_flow": null,
       "grid_auto_rows": null,
       "grid_column": null,
       "grid_gap": null,
       "grid_row": null,
       "grid_template_areas": null,
       "grid_template_columns": null,
       "grid_template_rows": null,
       "height": null,
       "justify_content": null,
       "justify_items": null,
       "left": null,
       "margin": null,
       "max_height": null,
       "max_width": null,
       "min_height": null,
       "min_width": null,
       "object_fit": null,
       "object_position": null,
       "order": null,
       "overflow": null,
       "overflow_x": null,
       "overflow_y": null,
       "padding": null,
       "right": null,
       "top": null,
       "visibility": null,
       "width": null
      }
     },
     "fb22df3cadf2416f917e2c1d35ea02be": {
      "model_module": "@jupyter-widgets/controls",
      "model_module_version": "1.5.0",
      "model_name": "VBoxModel",
      "state": {
       "_dom_classes": [
        "widget-interact"
       ],
       "_model_module": "@jupyter-widgets/controls",
       "_model_module_version": "1.5.0",
       "_model_name": "VBoxModel",
       "_view_count": null,
       "_view_module": "@jupyter-widgets/controls",
       "_view_module_version": "1.5.0",
       "_view_name": "VBoxView",
       "box_style": "",
       "children": [
        "IPY_MODEL_2d33d700a5d848efb14e466b1b8cb85a",
        "IPY_MODEL_45adba6516914a2dae1b71778c2f3e35"
       ],
       "layout": "IPY_MODEL_ef1b14908ab54dce9e76ad382edd5f98"
      }
     },
     "ff74e62d200e421c9022b76b2b302619": {
      "model_module": "@jupyter-widgets/controls",
      "model_module_version": "1.5.0",
      "model_name": "DescriptionStyleModel",
      "state": {
       "_model_module": "@jupyter-widgets/controls",
       "_model_module_version": "1.5.0",
       "_model_name": "DescriptionStyleModel",
       "_view_count": null,
       "_view_module": "@jupyter-widgets/base",
       "_view_module_version": "1.2.0",
       "_view_name": "StyleView",
       "description_width": ""
      }
     }
    },
    "version_major": 2,
    "version_minor": 0
   }
  }
 },
 "nbformat": 4,
 "nbformat_minor": 5
}
